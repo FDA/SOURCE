{
 "cells": [
  {
   "cell_type": "markdown",
   "metadata": {},
   "source": [
    "This code cleans all analytical model outputs and produces all summary statistics and tables reported in the main paper and supplement. It has to be run after the analysis code `OIC-OO v7`, using the same ControlFile and from the same folder; this code will read the output .tab files from the analysis, and will fail if they are not available. See main `Analysis & Graphing` folder for `ReadMe` with explanation of ControlFile format and fields.\n",
    "\n"
   ]
  },
  {
   "cell_type": "code",
   "execution_count": 1,
   "metadata": {},
   "outputs": [],
   "source": [
    "import os\n",
    "import json\n",
    "import regex\n",
    "import pandas as pd\n",
    "import numpy as np\n",
    "\n",
    "from shutil import copy\n",
    "from distutils.dir_util import copy_tree\n",
    "\n",
    "\n",
    "def clean_final(baserunname, scen, name='final', subset=['2003', '2004', '2005']):\n",
    "    \"\"\"Clean and process main run output tabfile, yielding tabfile with \n",
    "    only variables (no params) and larger timestep; `subset` is used to \n",
    "    identify params in the output tabfile, and should *not* include the \n",
    "    initial time\"\"\"\n",
    "    table = pd.read_csv(f'{baserunname}_{name}_{scen}.tab', sep='\\t', \n",
    "                        index_col=0, error_bad_lines=False)\n",
    "    display(f\"Processing {baserunname}_{name}_{scen}.tab...\")\n",
    "    \n",
    "    # Split table along secondary time row\n",
    "    table1 = table.iloc[:table.index.get_loc('Time'), :]\n",
    "    table2 = table.iloc[table.index.get_loc('Time'):, :].dropna(axis=1, how='all')\n",
    "    \n",
    "    # Convert secondary time row to str, with g-format to drop float decimals from whole years\n",
    "    table2.columns = table2.iloc[0].apply('{:g}'.format).astype('str')\n",
    "    table2 = table2[1:] # Drop secondary time row\n",
    "    table = pd.concat([table1, table2]) # Concat with joint time str axis to align values by time\n",
    "    table.dropna(how='all', subset=subset, inplace=True) # Drop constants\n",
    "    table = table[table.columns[::4]] # Reduce density of time axis to 0.25 years\n",
    "    table.to_csv(f'{baserunname}_{name}_{scen}_vars.tab', sep='\\t')\n",
    "    \n",
    "    \n",
    "def clean_sens(baserunname, scen, fitlist, name='sens', repvars=['SimVar'], dropvars=['RepErrRaw']):\n",
    "    \"\"\"Clean and process sensitivity output tabfile, yielding cleaned \n",
    "    tabfile '_clean' and `repvars`-only tabfile '_fits' from `fitlist`, \n",
    "    removing `dropvars`\"\"\"\n",
    "    \n",
    "    # Clean sensitivity data\n",
    "    senstable = pd.read_csv(f'{baserunname}_{name}_{scen}_clean.tab', sep='\\t', index_col=[0,1])\n",
    "    senstable = senstable.reorder_levels(['Var', 'Perc']).sort_index()\n",
    "    \n",
    "    # Filter out data for specified variables, by default RepErrRaw\n",
    "    for var in dropvars:\n",
    "        filt = pd.Series(~senstable.index.levels[0].str.startswith(var), \n",
    "                         index=senstable.index.levels[0])\n",
    "        senstable = senstable[filt[senstable.index.get_level_values('Var')].values]\n",
    "    senstable.to_csv(f'{baserunname}_{name}_{scen}_clean.tab', sep='\\t')\n",
    "    \n",
    "    # Extract sensitivity projection fit-to-data\n",
    "    fits_sens = senstable.loc[[f'{repvar}[{var[0]}]' for repvar in repvars for var in fitlist]]\n",
    "    fits_sens.to_csv(f'{baserunname}_{name}_{scen}_fits.tab', sep='\\t')\n",
    "\n",
    "\n",
    "def insert_sums(tablename, sumlist, sumvars=['SimVar', 'DataVar'], index_col=0):\n",
    "    \"\"\"Calculate summed variables and add to tabfile; sums each var in \n",
    "    `sumvars` for elements specified in `sumlist`\"\"\"\n",
    "    t = pd.read_csv(tablename, sep='\\t', index_col=index_col)\n",
    "    \n",
    "    t_dict = {}\n",
    "    # For each triplet in sumlist, set first elm as sum of other two\n",
    "    for a, b, c in sumlist:\n",
    "        for var in sumvars:\n",
    "            t_dict[f'{var}[{a}]'] = t.loc[f'{var}[{b}]'] + t.loc[f'{var}[{c}]']\n",
    "    \n",
    "    # Compile summed variables\n",
    "    if index_col==0:\n",
    "        t_sums = pd.concat(t_dict, axis=1).T\n",
    "    else:\n",
    "        t_sums = pd.concat(t_dict)\n",
    "    \n",
    "    # Merge back in to main dataframe and export to tabfile\n",
    "    t = pd.concat([t, t_sums]).sort_index()\n",
    "    t.to_csv(tablename, sep='\\t')\n",
    "\n",
    "\n",
    "def calc_gof(resdf, simvar, datavar):\n",
    "    \"\"\"Calculate goodness-of-fit measures for given sim & data vars\"\"\"\n",
    "    # IMPORTANT: cross-screen for missing sim or data values\n",
    "    sim = resdf.loc[simvar].where(resdf.loc[datavar].notna())\n",
    "    dat = resdf.loc[datavar].where(resdf.loc[simvar].notna())\n",
    "    \n",
    "    # Calculate various GOF stats & return each one\n",
    "    error = abs(sim - dat)\n",
    "    maen = error.mean()/dat.mean()\n",
    "    mape = (error/dat).mean()\n",
    "    simstd = np.sqrt((sim ** 2).mean() - sim.mean() ** 2)\n",
    "    datastd = np.sqrt((dat ** 2).mean() - dat.mean() ** 2)\n",
    "    r2 = (sim.corr(dat)) ** 2\n",
    "    mse = (error ** 2).mean()\n",
    "    um = ((sim.mean() - dat.mean()) ** 2/ mse)\n",
    "    us = ((simstd - datastd) ** 2/ mse)\n",
    "    uc = (2 * (1 - sim.corr(dat)) * simstd * datastd / mse)\n",
    "    return maen, mape, r2, mse, um, us, uc\n",
    "    \n",
    "    \n",
    "def get_year_values(table, senstable, var, years, percs, name):\n",
    "    \"\"\"Get value and bounds of specified `var` in `years` as text\"\"\"\n",
    "    vartext = [name + '\\n'] # Initialise with specified name, varname by default\n",
    "\n",
    "    # Iterate through years specified and pull values for each\n",
    "    for year in years:\n",
    "        val = table.loc[var, str(year)]\n",
    "        lower = senstable.loc[var, percs[0]].loc[str(float(year))]\n",
    "        upper = senstable.loc[var, percs[1]].loc[str(float(year))]\n",
    "\n",
    "        vartext.append(f\"{year}\\t{val}\\t{lower}\\t{upper}\\n\")\n",
    "\n",
    "    return vartext\n",
    "\n",
    "\n",
    "def compare_vals(first, second, projvars, projyear, compperc=50.0):\n",
    "    \"\"\"Calculate differences between specified `projvars` in `projyear` \n",
    "    for `first` and `second`, using `first` as reference values\"\"\"\n",
    "    vals = []\n",
    "    for file in first, second:\n",
    "        senstable = pd.read_csv(file, sep='\\t', index_col=[0,1])\n",
    "        senstable = senstable[senstable.columns[::4]]\n",
    "        senstable.columns = senstable.columns.astype(float).astype(int)\n",
    "        vals.append([senstable.loc[var, compperc][projyear] for var in projvars])\n",
    "        del senstable\n",
    "\n",
    "    # Calculate change in values using first as reference point\n",
    "    vals_chg = [(var1-var0)/var0 for var0, var1 in zip(vals[0], vals[1])]\n",
    "    return vals_chg\n",
    "\n",
    "\n",
    "def compile_sens_panel(baserunname, name, key, scen, outvars, projvars, endyear, \n",
    "                       projyear, params=True, dropvars=None):\n",
    "    \"\"\"Compile key outcomes panel for sensitivity analysis, specifying \n",
    "    run for comparison with `name`, `key` and `scen`, key outcome vars \n",
    "    with `outvars` at `endyear` and `projvars` at `projyear`, including \n",
    "    parametric sensitivity if `params` is True (and excluding params \n",
    "    e.g. from loop knockout with `dropvars`)\"\"\"\n",
    "    \n",
    "    # Read in base run for comparison and subset key outcome values\n",
    "    b = pd.read_csv(f'{baserunname}_final_{scen}_vars.tab', sep='\\t', index_col=0)\n",
    "    b = b.loc[outvars + projvars][[endyear, projyear]]\n",
    "\n",
    "    sensoutdict = {}\n",
    "    \n",
    "    # Read in sensitivity run and calculate change in key outcome values vs. base\n",
    "    t = pd.read_csv(f'{baserunname}_{name}_{key}_{scen}_vars.tab', sep='\\t', index_col=0)\n",
    "    for var in outvars:\n",
    "        sensoutdict[var] = (t.loc[var, endyear] - b.loc[var, endyear]) / b.loc[var, endyear]\n",
    "    for var in projvars:\n",
    "        sensoutdict[var] = (t.loc[var, projyear] - b.loc[var, projyear]) / b.loc[var, projyear]\n",
    "\n",
    "    # Read in parameter values and calculate sensitivity\n",
    "    if params:\n",
    "        paramdf = pd.read_csv(f'{baserunname}_{name}_params.tab', sep='\\t', index_col=0)\n",
    "\n",
    "        pt = paramdf[['Value', key]] # Select values for relevant run\n",
    "        if dropvars: # Drop specified params (e.g. knocked-out loops)\n",
    "            pt = pt.drop(dropvars)\n",
    "        \n",
    "        pt = pt[pt['Value'] > 0.0001] # Screen out values below 1e-04\n",
    "        pt['Chg'] = (pt[key] - pt['Value']) / pt['Value']\n",
    "        sensoutdict['Med elasticity'] = abs(pt['Chg']).median()\n",
    "        sensoutdict['Max elasticity'] = max(pt['Chg'].min(), pt['Chg'].max(), key=abs)\n",
    "    else: # Or specify zero elasticity\n",
    "        sensoutdict['Med elasticity'] = 0\n",
    "        sensoutdict['Max elasticity'] = 0\n",
    "\n",
    "    # Subset sensitivity run results\n",
    "    t = t.loc[:, :endyear]\n",
    "\n",
    "    # Calculate goodness-of-fit statistics\n",
    "    t = t[t.columns[::4]] # Subset to each year instead of 0.25 years\n",
    "    gofs = [[*calc_gof(t, f'SimVar[{elm[0]}]', f'DataVar[{elm[0]}]')] for elm in fitlist]\n",
    "\n",
    "    gofdf = pd.DataFrame(gofs, index=[elm[0] for elm in fitlist], \n",
    "                         columns=['MAEN', 'MAPE', 'R2', 'MSE', 'Um', 'Us', 'Uc'])\n",
    "    gofdf.loc['Avg'] = gofdf.mean()\n",
    "    gofdf.to_csv(f'{baserunname}_{name}_{key}_GOF.tab', sep='\\t')\n",
    "\n",
    "    # Pull relevant GOF statistics from GOF stats dataframe\n",
    "    sensoutdict['Avg MAEN'] = gofdf.loc['Avg', 'MAEN']\n",
    "    sensoutdict['Max MAEN'] = gofdf['MAEN'].max()\n",
    "    \n",
    "    # Return series with each key outcome for the panel\n",
    "    return pd.Series(sensoutdict)\n",
    "\n",
    "\n",
    "def strbds_from_perc(perc):\n",
    "    \"\"\"Return lower & upper bounds that define `perc` CrI as strings\"\"\"\n",
    "    if perc > 1: # If perc specified as percentage (not decimal)\n",
    "        return [str(round((0.5 - perc/200), 3)), str(round((0.5 + perc/200), 3))]\n",
    "    else: # If perc specified as decimal, not 100%\n",
    "        return [str(round((0.5 - perc/2), 3)), str(round((0.5 + perc/2), 3))]\n",
    "\n",
    "\n",
    "def get_value(file, varname):\n",
    "    \"\"\"General purpose function for reading values from .mdl, .out, etc. \n",
    "    files; returns value matching `varname` in a 'var = val' syntax\"\"\"\n",
    "    varregex = regex.compile(r'(?<=([^\\w ]|\\n)\\s?' + regex.escape(varname)\n",
    "                             + r'\\s*=)\\s*-?(?:\\d*)(\\.\\d*)?([eE][+\\-]?\\d+)?')\n",
    "\n",
    "    with open(file, 'r') as f:\n",
    "        filetext = f.read()\n",
    "        value = float((regex.search(varregex, filetext))[0])\n",
    "\n",
    "    return value"
   ]
  },
  {
   "cell_type": "code",
   "execution_count": 2,
   "metadata": {},
   "outputs": [
    {
     "name": "stdout",
     "output_type": "stream",
     "text": [
      "Enter control file name (with extension):OICC220127.txt\n"
     ]
    }
   ],
   "source": [
    "# Read specified controlfile and unpack into variables\n",
    "controlfilename = input(\"Enter control file name (with extension):\")\n",
    "cf = json.load(open(controlfilename, 'r'))\n",
    "\n",
    "for k,v in cf.items():\n",
    "    exec(k + '=v')\n",
    "\n",
    "for setting in [analysissettings]:\n",
    "    for k, v in setting.items():\n",
    "        exec(k + '=v')\n",
    "\n",
    "# Initialise base working directory\n",
    "os.chdir(f\"{baserunname}_IterCal\")\n",
    "basedir = os.getcwd()"
   ]
  },
  {
   "cell_type": "code",
   "execution_count": 3,
   "metadata": {
    "scrolled": true
   },
   "outputs": [
    {
     "data": {
      "text/plain": [
       "'Processing X8_final_Base.tab...'"
      ]
     },
     "metadata": {},
     "output_type": "display_data"
    },
    {
     "data": {
      "text/plain": [
       "'Processing X8_final_Cnst.tab...'"
      ]
     },
     "metadata": {},
     "output_type": "display_data"
    },
    {
     "data": {
      "text/plain": [
       "'Processing X8_final_FentH.tab...'"
      ]
     },
     "metadata": {},
     "output_type": "display_data"
    },
    {
     "data": {
      "text/plain": [
       "'Processing X8_final_FentL.tab...'"
      ]
     },
     "metadata": {},
     "output_type": "display_data"
    },
    {
     "data": {
      "text/plain": [
       "'Processing X8_final_Pos.tab...'"
      ]
     },
     "metadata": {},
     "output_type": "display_data"
    },
    {
     "data": {
      "text/plain": [
       "'Processing X8_final_Neg.tab...'"
      ]
     },
     "metadata": {},
     "output_type": "display_data"
    },
    {
     "data": {
      "text/plain": [
       "'Processing X8_final_NoFentHist.tab...'"
      ]
     },
     "metadata": {},
     "output_type": "display_data"
    },
    {
     "data": {
      "text/plain": [
       "'Processing X8_final_BaseNone.tab...'"
      ]
     },
     "metadata": {},
     "output_type": "display_data"
    },
    {
     "data": {
      "text/plain": [
       "'Processing X8_final_BaseBupProvBarriers.tab...'"
      ]
     },
     "metadata": {},
     "output_type": "display_data"
    },
    {
     "data": {
      "text/plain": [
       "'Processing X8_final_BaseBupProv.tab...'"
      ]
     },
     "metadata": {},
     "output_type": "display_data"
    },
    {
     "data": {
      "text/plain": [
       "'Processing X8_final_BaseDevOUD.tab...'"
      ]
     },
     "metadata": {},
     "output_type": "display_data"
    },
    {
     "data": {
      "text/plain": [
       "'Processing X8_final_BaseDivRxInit.tab...'"
      ]
     },
     "metadata": {},
     "output_type": "display_data"
    },
    {
     "data": {
      "text/plain": [
       "'Processing X8_final_BaseFentODRisk.tab...'"
      ]
     },
     "metadata": {},
     "output_type": "display_data"
    },
    {
     "data": {
      "text/plain": [
       "'Processing X8_final_BaseHInit.tab...'"
      ]
     },
     "metadata": {},
     "output_type": "display_data"
    },
    {
     "data": {
      "text/plain": [
       "'Processing X8_final_BaseNxKits.tab...'"
      ]
     },
     "metadata": {},
     "output_type": "display_data"
    },
    {
     "data": {
      "text/plain": [
       "'Processing X8_final_BaseOwnRxInit.tab...'"
      ]
     },
     "metadata": {},
     "output_type": "display_data"
    },
    {
     "data": {
      "text/plain": [
       "'Processing X8_final_BasePackage.tab...'"
      ]
     },
     "metadata": {},
     "output_type": "display_data"
    },
    {
     "data": {
      "text/plain": [
       "'Processing X8_final_BasePackage_noFent.tab...'"
      ]
     },
     "metadata": {},
     "output_type": "display_data"
    },
    {
     "data": {
      "text/plain": [
       "'Processing X8_final_BasePeerRecovery.tab...'"
      ]
     },
     "metadata": {},
     "output_type": "display_data"
    },
    {
     "data": {
      "text/plain": [
       "'Processing X8_final_BaseRxRate.tab...'"
      ]
     },
     "metadata": {},
     "output_type": "display_data"
    },
    {
     "data": {
      "text/plain": [
       "'Processing X8_final_BaseReturntoOUD.tab...'"
      ]
     },
     "metadata": {},
     "output_type": "display_data"
    },
    {
     "data": {
      "text/plain": [
       "'Processing X8_final_BaseBupProvBarriers10.tab...'"
      ]
     },
     "metadata": {},
     "output_type": "display_data"
    },
    {
     "data": {
      "text/plain": [
       "'Processing X8_final_BaseBupProv10.tab...'"
      ]
     },
     "metadata": {},
     "output_type": "display_data"
    },
    {
     "data": {
      "text/plain": [
       "'Processing X8_final_BaseDevOUD10.tab...'"
      ]
     },
     "metadata": {},
     "output_type": "display_data"
    },
    {
     "data": {
      "text/plain": [
       "'Processing X8_final_BaseDivRxInit10.tab...'"
      ]
     },
     "metadata": {},
     "output_type": "display_data"
    },
    {
     "data": {
      "text/plain": [
       "'Processing X8_final_BaseFentODRisk10.tab...'"
      ]
     },
     "metadata": {},
     "output_type": "display_data"
    },
    {
     "data": {
      "text/plain": [
       "'Processing X8_final_BaseHInit10.tab...'"
      ]
     },
     "metadata": {},
     "output_type": "display_data"
    },
    {
     "data": {
      "text/plain": [
       "'Processing X8_final_BaseNxKits10.tab...'"
      ]
     },
     "metadata": {},
     "output_type": "display_data"
    },
    {
     "data": {
      "text/plain": [
       "'Processing X8_final_BaseOwnRxInit10.tab...'"
      ]
     },
     "metadata": {},
     "output_type": "display_data"
    },
    {
     "data": {
      "text/plain": [
       "'Processing X8_final_BasePackage10.tab...'"
      ]
     },
     "metadata": {},
     "output_type": "display_data"
    },
    {
     "data": {
      "text/plain": [
       "'Processing X8_final_BasePackage_noFent10.tab...'"
      ]
     },
     "metadata": {},
     "output_type": "display_data"
    },
    {
     "data": {
      "text/plain": [
       "'Processing X8_final_BasePeerRecovery10.tab...'"
      ]
     },
     "metadata": {},
     "output_type": "display_data"
    },
    {
     "data": {
      "text/plain": [
       "'Processing X8_final_BaseRxRate10.tab...'"
      ]
     },
     "metadata": {},
     "output_type": "display_data"
    },
    {
     "data": {
      "text/plain": [
       "'Processing X8_final_BaseReturntoOUD10.tab...'"
      ]
     },
     "metadata": {},
     "output_type": "display_data"
    },
    {
     "data": {
      "text/plain": [
       "'Processing X8_final_BaseBupProvBarriers50.tab...'"
      ]
     },
     "metadata": {},
     "output_type": "display_data"
    },
    {
     "data": {
      "text/plain": [
       "'Processing X8_final_BaseBupProv50.tab...'"
      ]
     },
     "metadata": {},
     "output_type": "display_data"
    },
    {
     "data": {
      "text/plain": [
       "'Processing X8_final_BaseDevOUD50.tab...'"
      ]
     },
     "metadata": {},
     "output_type": "display_data"
    },
    {
     "data": {
      "text/plain": [
       "'Processing X8_final_BaseDivRxInit50.tab...'"
      ]
     },
     "metadata": {},
     "output_type": "display_data"
    },
    {
     "data": {
      "text/plain": [
       "'Processing X8_final_BaseFentODRisk50.tab...'"
      ]
     },
     "metadata": {},
     "output_type": "display_data"
    },
    {
     "data": {
      "text/plain": [
       "'Processing X8_final_BaseHInit50.tab...'"
      ]
     },
     "metadata": {},
     "output_type": "display_data"
    },
    {
     "data": {
      "text/plain": [
       "'Processing X8_final_BaseNxKits50.tab...'"
      ]
     },
     "metadata": {},
     "output_type": "display_data"
    },
    {
     "data": {
      "text/plain": [
       "'Processing X8_final_BaseOwnRxInit50.tab...'"
      ]
     },
     "metadata": {},
     "output_type": "display_data"
    },
    {
     "data": {
      "text/plain": [
       "'Processing X8_final_BasePackage50.tab...'"
      ]
     },
     "metadata": {},
     "output_type": "display_data"
    },
    {
     "data": {
      "text/plain": [
       "'Processing X8_final_BasePackage_noFent50.tab...'"
      ]
     },
     "metadata": {},
     "output_type": "display_data"
    },
    {
     "data": {
      "text/plain": [
       "'Processing X8_final_BasePeerRecovery50.tab...'"
      ]
     },
     "metadata": {},
     "output_type": "display_data"
    },
    {
     "data": {
      "text/plain": [
       "'Processing X8_final_BaseRxRate50.tab...'"
      ]
     },
     "metadata": {},
     "output_type": "display_data"
    },
    {
     "data": {
      "text/plain": [
       "'Processing X8_final_BaseReturntoOUD50.tab...'"
      ]
     },
     "metadata": {},
     "output_type": "display_data"
    },
    {
     "data": {
      "text/plain": [
       "'Processing X8_final_BaseDivRxInit65.tab...'"
      ]
     },
     "metadata": {},
     "output_type": "display_data"
    },
    {
     "data": {
      "text/plain": [
       "'Processing X8_final_BaseNxPeerRecovery.tab...'"
      ]
     },
     "metadata": {},
     "output_type": "display_data"
    },
    {
     "data": {
      "text/plain": [
       "'Processing X8_final_BasePackage_RR.tab...'"
      ]
     },
     "metadata": {},
     "output_type": "display_data"
    },
    {
     "data": {
      "text/plain": [
       "'Processing X8_final_CnstNone.tab...'"
      ]
     },
     "metadata": {},
     "output_type": "display_data"
    },
    {
     "data": {
      "text/plain": [
       "'Processing X8_final_CnstBupProvBarriers.tab...'"
      ]
     },
     "metadata": {},
     "output_type": "display_data"
    },
    {
     "data": {
      "text/plain": [
       "'Processing X8_final_CnstBupProv.tab...'"
      ]
     },
     "metadata": {},
     "output_type": "display_data"
    },
    {
     "data": {
      "text/plain": [
       "'Processing X8_final_CnstDevOUD.tab...'"
      ]
     },
     "metadata": {},
     "output_type": "display_data"
    },
    {
     "data": {
      "text/plain": [
       "'Processing X8_final_CnstDivRxInit.tab...'"
      ]
     },
     "metadata": {},
     "output_type": "display_data"
    },
    {
     "data": {
      "text/plain": [
       "'Processing X8_final_CnstFentODRisk.tab...'"
      ]
     },
     "metadata": {},
     "output_type": "display_data"
    },
    {
     "data": {
      "text/plain": [
       "'Processing X8_final_CnstHInit.tab...'"
      ]
     },
     "metadata": {},
     "output_type": "display_data"
    },
    {
     "data": {
      "text/plain": [
       "'Processing X8_final_CnstNxKits.tab...'"
      ]
     },
     "metadata": {},
     "output_type": "display_data"
    },
    {
     "data": {
      "text/plain": [
       "'Processing X8_final_CnstOwnRxInit.tab...'"
      ]
     },
     "metadata": {},
     "output_type": "display_data"
    },
    {
     "data": {
      "text/plain": [
       "'Processing X8_final_CnstPackage.tab...'"
      ]
     },
     "metadata": {},
     "output_type": "display_data"
    },
    {
     "data": {
      "text/plain": [
       "'Processing X8_final_CnstPackage_noFent.tab...'"
      ]
     },
     "metadata": {},
     "output_type": "display_data"
    },
    {
     "data": {
      "text/plain": [
       "'Processing X8_final_CnstPeerRecovery.tab...'"
      ]
     },
     "metadata": {},
     "output_type": "display_data"
    },
    {
     "data": {
      "text/plain": [
       "'Processing X8_final_CnstRxRate.tab...'"
      ]
     },
     "metadata": {},
     "output_type": "display_data"
    },
    {
     "data": {
      "text/plain": [
       "'Processing X8_final_CnstReturntoOUD.tab...'"
      ]
     },
     "metadata": {},
     "output_type": "display_data"
    },
    {
     "data": {
      "text/plain": [
       "'Processing X8_final_CnstBupProvBarriers10.tab...'"
      ]
     },
     "metadata": {},
     "output_type": "display_data"
    },
    {
     "data": {
      "text/plain": [
       "'Processing X8_final_CnstBupProv10.tab...'"
      ]
     },
     "metadata": {},
     "output_type": "display_data"
    },
    {
     "data": {
      "text/plain": [
       "'Processing X8_final_CnstDevOUD10.tab...'"
      ]
     },
     "metadata": {},
     "output_type": "display_data"
    },
    {
     "data": {
      "text/plain": [
       "'Processing X8_final_CnstDivRxInit10.tab...'"
      ]
     },
     "metadata": {},
     "output_type": "display_data"
    },
    {
     "data": {
      "text/plain": [
       "'Processing X8_final_CnstFentODRisk10.tab...'"
      ]
     },
     "metadata": {},
     "output_type": "display_data"
    },
    {
     "data": {
      "text/plain": [
       "'Processing X8_final_CnstHInit10.tab...'"
      ]
     },
     "metadata": {},
     "output_type": "display_data"
    },
    {
     "data": {
      "text/plain": [
       "'Processing X8_final_CnstNxKits10.tab...'"
      ]
     },
     "metadata": {},
     "output_type": "display_data"
    },
    {
     "data": {
      "text/plain": [
       "'Processing X8_final_CnstOwnRxInit10.tab...'"
      ]
     },
     "metadata": {},
     "output_type": "display_data"
    },
    {
     "data": {
      "text/plain": [
       "'Processing X8_final_CnstPackage10.tab...'"
      ]
     },
     "metadata": {},
     "output_type": "display_data"
    },
    {
     "data": {
      "text/plain": [
       "'Processing X8_final_CnstPackage_noFent10.tab...'"
      ]
     },
     "metadata": {},
     "output_type": "display_data"
    },
    {
     "data": {
      "text/plain": [
       "'Processing X8_final_CnstPeerRecovery10.tab...'"
      ]
     },
     "metadata": {},
     "output_type": "display_data"
    },
    {
     "data": {
      "text/plain": [
       "'Processing X8_final_CnstRxRate10.tab...'"
      ]
     },
     "metadata": {},
     "output_type": "display_data"
    },
    {
     "data": {
      "text/plain": [
       "'Processing X8_final_CnstReturntoOUD10.tab...'"
      ]
     },
     "metadata": {},
     "output_type": "display_data"
    },
    {
     "data": {
      "text/plain": [
       "'Processing X8_final_CnstBupProvBarriers50.tab...'"
      ]
     },
     "metadata": {},
     "output_type": "display_data"
    },
    {
     "data": {
      "text/plain": [
       "'Processing X8_final_CnstBupProv50.tab...'"
      ]
     },
     "metadata": {},
     "output_type": "display_data"
    },
    {
     "data": {
      "text/plain": [
       "'Processing X8_final_CnstDevOUD50.tab...'"
      ]
     },
     "metadata": {},
     "output_type": "display_data"
    },
    {
     "data": {
      "text/plain": [
       "'Processing X8_final_CnstDivRxInit50.tab...'"
      ]
     },
     "metadata": {},
     "output_type": "display_data"
    },
    {
     "data": {
      "text/plain": [
       "'Processing X8_final_CnstFentODRisk50.tab...'"
      ]
     },
     "metadata": {},
     "output_type": "display_data"
    },
    {
     "data": {
      "text/plain": [
       "'Processing X8_final_CnstHInit50.tab...'"
      ]
     },
     "metadata": {},
     "output_type": "display_data"
    },
    {
     "data": {
      "text/plain": [
       "'Processing X8_final_CnstNxKits50.tab...'"
      ]
     },
     "metadata": {},
     "output_type": "display_data"
    },
    {
     "data": {
      "text/plain": [
       "'Processing X8_final_CnstOwnRxInit50.tab...'"
      ]
     },
     "metadata": {},
     "output_type": "display_data"
    },
    {
     "data": {
      "text/plain": [
       "'Processing X8_final_CnstPackage50.tab...'"
      ]
     },
     "metadata": {},
     "output_type": "display_data"
    },
    {
     "data": {
      "text/plain": [
       "'Processing X8_final_CnstPackage_noFent50.tab...'"
      ]
     },
     "metadata": {},
     "output_type": "display_data"
    },
    {
     "data": {
      "text/plain": [
       "'Processing X8_final_CnstPeerRecovery50.tab...'"
      ]
     },
     "metadata": {},
     "output_type": "display_data"
    },
    {
     "data": {
      "text/plain": [
       "'Processing X8_final_CnstRxRate50.tab...'"
      ]
     },
     "metadata": {},
     "output_type": "display_data"
    },
    {
     "data": {
      "text/plain": [
       "'Processing X8_final_CnstReturntoOUD50.tab...'"
      ]
     },
     "metadata": {},
     "output_type": "display_data"
    },
    {
     "data": {
      "text/plain": [
       "'Processing X8_final_CnstDivRxInit65.tab...'"
      ]
     },
     "metadata": {},
     "output_type": "display_data"
    },
    {
     "data": {
      "text/plain": [
       "'Processing X8_final_CnstNxPeerRecovery.tab...'"
      ]
     },
     "metadata": {},
     "output_type": "display_data"
    },
    {
     "data": {
      "text/plain": [
       "'Processing X8_final_CnstPackage_RR.tab...'"
      ]
     },
     "metadata": {},
     "output_type": "display_data"
    },
    {
     "data": {
      "text/plain": [
       "'Processing X8_final_FentHNone.tab...'"
      ]
     },
     "metadata": {},
     "output_type": "display_data"
    },
    {
     "data": {
      "text/plain": [
       "'Processing X8_final_FentHBupProvBarriers.tab...'"
      ]
     },
     "metadata": {},
     "output_type": "display_data"
    },
    {
     "data": {
      "text/plain": [
       "'Processing X8_final_FentHBupProv.tab...'"
      ]
     },
     "metadata": {},
     "output_type": "display_data"
    },
    {
     "data": {
      "text/plain": [
       "'Processing X8_final_FentHDevOUD.tab...'"
      ]
     },
     "metadata": {},
     "output_type": "display_data"
    },
    {
     "data": {
      "text/plain": [
       "'Processing X8_final_FentHDivRxInit.tab...'"
      ]
     },
     "metadata": {},
     "output_type": "display_data"
    },
    {
     "data": {
      "text/plain": [
       "'Processing X8_final_FentHFentODRisk.tab...'"
      ]
     },
     "metadata": {},
     "output_type": "display_data"
    },
    {
     "data": {
      "text/plain": [
       "'Processing X8_final_FentHHInit.tab...'"
      ]
     },
     "metadata": {},
     "output_type": "display_data"
    },
    {
     "data": {
      "text/plain": [
       "'Processing X8_final_FentHNxKits.tab...'"
      ]
     },
     "metadata": {},
     "output_type": "display_data"
    },
    {
     "data": {
      "text/plain": [
       "'Processing X8_final_FentHOwnRxInit.tab...'"
      ]
     },
     "metadata": {},
     "output_type": "display_data"
    },
    {
     "data": {
      "text/plain": [
       "'Processing X8_final_FentHPackage.tab...'"
      ]
     },
     "metadata": {},
     "output_type": "display_data"
    },
    {
     "data": {
      "text/plain": [
       "'Processing X8_final_FentHPackage_noFent.tab...'"
      ]
     },
     "metadata": {},
     "output_type": "display_data"
    },
    {
     "data": {
      "text/plain": [
       "'Processing X8_final_FentHPeerRecovery.tab...'"
      ]
     },
     "metadata": {},
     "output_type": "display_data"
    },
    {
     "data": {
      "text/plain": [
       "'Processing X8_final_FentHRxRate.tab...'"
      ]
     },
     "metadata": {},
     "output_type": "display_data"
    },
    {
     "data": {
      "text/plain": [
       "'Processing X8_final_FentHReturntoOUD.tab...'"
      ]
     },
     "metadata": {},
     "output_type": "display_data"
    },
    {
     "data": {
      "text/plain": [
       "'Processing X8_final_FentHBupProvBarriers10.tab...'"
      ]
     },
     "metadata": {},
     "output_type": "display_data"
    },
    {
     "data": {
      "text/plain": [
       "'Processing X8_final_FentHBupProv10.tab...'"
      ]
     },
     "metadata": {},
     "output_type": "display_data"
    },
    {
     "data": {
      "text/plain": [
       "'Processing X8_final_FentHDevOUD10.tab...'"
      ]
     },
     "metadata": {},
     "output_type": "display_data"
    },
    {
     "data": {
      "text/plain": [
       "'Processing X8_final_FentHDivRxInit10.tab...'"
      ]
     },
     "metadata": {},
     "output_type": "display_data"
    },
    {
     "data": {
      "text/plain": [
       "'Processing X8_final_FentHFentODRisk10.tab...'"
      ]
     },
     "metadata": {},
     "output_type": "display_data"
    },
    {
     "data": {
      "text/plain": [
       "'Processing X8_final_FentHHInit10.tab...'"
      ]
     },
     "metadata": {},
     "output_type": "display_data"
    },
    {
     "data": {
      "text/plain": [
       "'Processing X8_final_FentHNxKits10.tab...'"
      ]
     },
     "metadata": {},
     "output_type": "display_data"
    },
    {
     "data": {
      "text/plain": [
       "'Processing X8_final_FentHOwnRxInit10.tab...'"
      ]
     },
     "metadata": {},
     "output_type": "display_data"
    },
    {
     "data": {
      "text/plain": [
       "'Processing X8_final_FentHPackage10.tab...'"
      ]
     },
     "metadata": {},
     "output_type": "display_data"
    },
    {
     "data": {
      "text/plain": [
       "'Processing X8_final_FentHPackage_noFent10.tab...'"
      ]
     },
     "metadata": {},
     "output_type": "display_data"
    },
    {
     "data": {
      "text/plain": [
       "'Processing X8_final_FentHPeerRecovery10.tab...'"
      ]
     },
     "metadata": {},
     "output_type": "display_data"
    },
    {
     "data": {
      "text/plain": [
       "'Processing X8_final_FentHRxRate10.tab...'"
      ]
     },
     "metadata": {},
     "output_type": "display_data"
    },
    {
     "data": {
      "text/plain": [
       "'Processing X8_final_FentHReturntoOUD10.tab...'"
      ]
     },
     "metadata": {},
     "output_type": "display_data"
    },
    {
     "data": {
      "text/plain": [
       "'Processing X8_final_FentHBupProvBarriers50.tab...'"
      ]
     },
     "metadata": {},
     "output_type": "display_data"
    },
    {
     "data": {
      "text/plain": [
       "'Processing X8_final_FentHBupProv50.tab...'"
      ]
     },
     "metadata": {},
     "output_type": "display_data"
    },
    {
     "data": {
      "text/plain": [
       "'Processing X8_final_FentHDevOUD50.tab...'"
      ]
     },
     "metadata": {},
     "output_type": "display_data"
    },
    {
     "data": {
      "text/plain": [
       "'Processing X8_final_FentHDivRxInit50.tab...'"
      ]
     },
     "metadata": {},
     "output_type": "display_data"
    },
    {
     "data": {
      "text/plain": [
       "'Processing X8_final_FentHFentODRisk50.tab...'"
      ]
     },
     "metadata": {},
     "output_type": "display_data"
    },
    {
     "data": {
      "text/plain": [
       "'Processing X8_final_FentHHInit50.tab...'"
      ]
     },
     "metadata": {},
     "output_type": "display_data"
    },
    {
     "data": {
      "text/plain": [
       "'Processing X8_final_FentHNxKits50.tab...'"
      ]
     },
     "metadata": {},
     "output_type": "display_data"
    },
    {
     "data": {
      "text/plain": [
       "'Processing X8_final_FentHOwnRxInit50.tab...'"
      ]
     },
     "metadata": {},
     "output_type": "display_data"
    },
    {
     "data": {
      "text/plain": [
       "'Processing X8_final_FentHPackage50.tab...'"
      ]
     },
     "metadata": {},
     "output_type": "display_data"
    },
    {
     "data": {
      "text/plain": [
       "'Processing X8_final_FentHPackage_noFent50.tab...'"
      ]
     },
     "metadata": {},
     "output_type": "display_data"
    },
    {
     "data": {
      "text/plain": [
       "'Processing X8_final_FentHPeerRecovery50.tab...'"
      ]
     },
     "metadata": {},
     "output_type": "display_data"
    },
    {
     "data": {
      "text/plain": [
       "'Processing X8_final_FentHRxRate50.tab...'"
      ]
     },
     "metadata": {},
     "output_type": "display_data"
    },
    {
     "data": {
      "text/plain": [
       "'Processing X8_final_FentHReturntoOUD50.tab...'"
      ]
     },
     "metadata": {},
     "output_type": "display_data"
    },
    {
     "data": {
      "text/plain": [
       "'Processing X8_final_FentHDivRxInit65.tab...'"
      ]
     },
     "metadata": {},
     "output_type": "display_data"
    },
    {
     "data": {
      "text/plain": [
       "'Processing X8_final_FentHNxPeerRecovery.tab...'"
      ]
     },
     "metadata": {},
     "output_type": "display_data"
    },
    {
     "data": {
      "text/plain": [
       "'Processing X8_final_FentHPackage_RR.tab...'"
      ]
     },
     "metadata": {},
     "output_type": "display_data"
    },
    {
     "data": {
      "text/plain": [
       "'Processing X8_final_FentLNone.tab...'"
      ]
     },
     "metadata": {},
     "output_type": "display_data"
    },
    {
     "data": {
      "text/plain": [
       "'Processing X8_final_FentLBupProvBarriers.tab...'"
      ]
     },
     "metadata": {},
     "output_type": "display_data"
    },
    {
     "data": {
      "text/plain": [
       "'Processing X8_final_FentLBupProv.tab...'"
      ]
     },
     "metadata": {},
     "output_type": "display_data"
    },
    {
     "data": {
      "text/plain": [
       "'Processing X8_final_FentLDevOUD.tab...'"
      ]
     },
     "metadata": {},
     "output_type": "display_data"
    },
    {
     "data": {
      "text/plain": [
       "'Processing X8_final_FentLDivRxInit.tab...'"
      ]
     },
     "metadata": {},
     "output_type": "display_data"
    },
    {
     "data": {
      "text/plain": [
       "'Processing X8_final_FentLFentODRisk.tab...'"
      ]
     },
     "metadata": {},
     "output_type": "display_data"
    },
    {
     "data": {
      "text/plain": [
       "'Processing X8_final_FentLHInit.tab...'"
      ]
     },
     "metadata": {},
     "output_type": "display_data"
    },
    {
     "data": {
      "text/plain": [
       "'Processing X8_final_FentLNxKits.tab...'"
      ]
     },
     "metadata": {},
     "output_type": "display_data"
    },
    {
     "data": {
      "text/plain": [
       "'Processing X8_final_FentLOwnRxInit.tab...'"
      ]
     },
     "metadata": {},
     "output_type": "display_data"
    },
    {
     "data": {
      "text/plain": [
       "'Processing X8_final_FentLPackage.tab...'"
      ]
     },
     "metadata": {},
     "output_type": "display_data"
    },
    {
     "data": {
      "text/plain": [
       "'Processing X8_final_FentLPackage_noFent.tab...'"
      ]
     },
     "metadata": {},
     "output_type": "display_data"
    },
    {
     "data": {
      "text/plain": [
       "'Processing X8_final_FentLPeerRecovery.tab...'"
      ]
     },
     "metadata": {},
     "output_type": "display_data"
    },
    {
     "data": {
      "text/plain": [
       "'Processing X8_final_FentLRxRate.tab...'"
      ]
     },
     "metadata": {},
     "output_type": "display_data"
    },
    {
     "data": {
      "text/plain": [
       "'Processing X8_final_FentLReturntoOUD.tab...'"
      ]
     },
     "metadata": {},
     "output_type": "display_data"
    },
    {
     "data": {
      "text/plain": [
       "'Processing X8_final_FentLBupProvBarriers10.tab...'"
      ]
     },
     "metadata": {},
     "output_type": "display_data"
    },
    {
     "data": {
      "text/plain": [
       "'Processing X8_final_FentLBupProv10.tab...'"
      ]
     },
     "metadata": {},
     "output_type": "display_data"
    },
    {
     "data": {
      "text/plain": [
       "'Processing X8_final_FentLDevOUD10.tab...'"
      ]
     },
     "metadata": {},
     "output_type": "display_data"
    },
    {
     "data": {
      "text/plain": [
       "'Processing X8_final_FentLDivRxInit10.tab...'"
      ]
     },
     "metadata": {},
     "output_type": "display_data"
    },
    {
     "data": {
      "text/plain": [
       "'Processing X8_final_FentLFentODRisk10.tab...'"
      ]
     },
     "metadata": {},
     "output_type": "display_data"
    },
    {
     "data": {
      "text/plain": [
       "'Processing X8_final_FentLHInit10.tab...'"
      ]
     },
     "metadata": {},
     "output_type": "display_data"
    },
    {
     "data": {
      "text/plain": [
       "'Processing X8_final_FentLNxKits10.tab...'"
      ]
     },
     "metadata": {},
     "output_type": "display_data"
    },
    {
     "data": {
      "text/plain": [
       "'Processing X8_final_FentLOwnRxInit10.tab...'"
      ]
     },
     "metadata": {},
     "output_type": "display_data"
    },
    {
     "data": {
      "text/plain": [
       "'Processing X8_final_FentLPackage10.tab...'"
      ]
     },
     "metadata": {},
     "output_type": "display_data"
    },
    {
     "data": {
      "text/plain": [
       "'Processing X8_final_FentLPackage_noFent10.tab...'"
      ]
     },
     "metadata": {},
     "output_type": "display_data"
    },
    {
     "data": {
      "text/plain": [
       "'Processing X8_final_FentLPeerRecovery10.tab...'"
      ]
     },
     "metadata": {},
     "output_type": "display_data"
    },
    {
     "data": {
      "text/plain": [
       "'Processing X8_final_FentLRxRate10.tab...'"
      ]
     },
     "metadata": {},
     "output_type": "display_data"
    },
    {
     "data": {
      "text/plain": [
       "'Processing X8_final_FentLReturntoOUD10.tab...'"
      ]
     },
     "metadata": {},
     "output_type": "display_data"
    },
    {
     "data": {
      "text/plain": [
       "'Processing X8_final_FentLBupProvBarriers50.tab...'"
      ]
     },
     "metadata": {},
     "output_type": "display_data"
    },
    {
     "data": {
      "text/plain": [
       "'Processing X8_final_FentLBupProv50.tab...'"
      ]
     },
     "metadata": {},
     "output_type": "display_data"
    },
    {
     "data": {
      "text/plain": [
       "'Processing X8_final_FentLDevOUD50.tab...'"
      ]
     },
     "metadata": {},
     "output_type": "display_data"
    },
    {
     "data": {
      "text/plain": [
       "'Processing X8_final_FentLDivRxInit50.tab...'"
      ]
     },
     "metadata": {},
     "output_type": "display_data"
    },
    {
     "data": {
      "text/plain": [
       "'Processing X8_final_FentLFentODRisk50.tab...'"
      ]
     },
     "metadata": {},
     "output_type": "display_data"
    },
    {
     "data": {
      "text/plain": [
       "'Processing X8_final_FentLHInit50.tab...'"
      ]
     },
     "metadata": {},
     "output_type": "display_data"
    },
    {
     "data": {
      "text/plain": [
       "'Processing X8_final_FentLNxKits50.tab...'"
      ]
     },
     "metadata": {},
     "output_type": "display_data"
    },
    {
     "data": {
      "text/plain": [
       "'Processing X8_final_FentLOwnRxInit50.tab...'"
      ]
     },
     "metadata": {},
     "output_type": "display_data"
    },
    {
     "data": {
      "text/plain": [
       "'Processing X8_final_FentLPackage50.tab...'"
      ]
     },
     "metadata": {},
     "output_type": "display_data"
    },
    {
     "data": {
      "text/plain": [
       "'Processing X8_final_FentLPackage_noFent50.tab...'"
      ]
     },
     "metadata": {},
     "output_type": "display_data"
    },
    {
     "data": {
      "text/plain": [
       "'Processing X8_final_FentLPeerRecovery50.tab...'"
      ]
     },
     "metadata": {},
     "output_type": "display_data"
    },
    {
     "data": {
      "text/plain": [
       "'Processing X8_final_FentLRxRate50.tab...'"
      ]
     },
     "metadata": {},
     "output_type": "display_data"
    },
    {
     "data": {
      "text/plain": [
       "'Processing X8_final_FentLReturntoOUD50.tab...'"
      ]
     },
     "metadata": {},
     "output_type": "display_data"
    },
    {
     "data": {
      "text/plain": [
       "'Processing X8_final_FentLDivRxInit65.tab...'"
      ]
     },
     "metadata": {},
     "output_type": "display_data"
    },
    {
     "data": {
      "text/plain": [
       "'Processing X8_final_FentLNxPeerRecovery.tab...'"
      ]
     },
     "metadata": {},
     "output_type": "display_data"
    },
    {
     "data": {
      "text/plain": [
       "'Processing X8_final_FentLPackage_RR.tab...'"
      ]
     },
     "metadata": {},
     "output_type": "display_data"
    },
    {
     "data": {
      "text/plain": [
       "'Processing X8_test_Data2019_Base.tab...'"
      ]
     },
     "metadata": {},
     "output_type": "display_data"
    },
    {
     "data": {
      "text/plain": [
       "'Processing X8_test_FentMax_Base.tab...'"
      ]
     },
     "metadata": {},
     "output_type": "display_data"
    },
    {
     "data": {
      "text/plain": [
       "'Processing X8_lk_av_Base.tab...'"
      ]
     },
     "metadata": {},
     "output_type": "display_data"
    },
    {
     "data": {
      "text/plain": [
       "'Processing X8_lk_run_av_Base.tab...'"
      ]
     },
     "metadata": {},
     "output_type": "display_data"
    },
    {
     "data": {
      "text/plain": [
       "'Processing X8_lk_pr_Base.tab...'"
      ]
     },
     "metadata": {},
     "output_type": "display_data"
    },
    {
     "data": {
      "text/plain": [
       "'Processing X8_lk_run_pr_Base.tab...'"
      ]
     },
     "metadata": {},
     "output_type": "display_data"
    },
    {
     "data": {
      "text/plain": [
       "'Processing X8_lk_si_Base.tab...'"
      ]
     },
     "metadata": {},
     "output_type": "display_data"
    },
    {
     "data": {
      "text/plain": [
       "'Processing X8_lk_run_si_Base.tab...'"
      ]
     },
     "metadata": {},
     "output_type": "display_data"
    },
    {
     "data": {
      "text/plain": [
       "'Processing X8_assm_Asf_L_Base.tab...'"
      ]
     },
     "metadata": {},
     "output_type": "display_data"
    },
    {
     "data": {
      "text/plain": [
       "'Processing X8_assm_Asf_H_Base.tab...'"
      ]
     },
     "metadata": {},
     "output_type": "display_data"
    },
    {
     "data": {
      "text/plain": [
       "'Processing X8_assm_EoMToOdrB_L_Base.tab...'"
      ]
     },
     "metadata": {},
     "output_type": "display_data"
    },
    {
     "data": {
      "text/plain": [
       "'Processing X8_assm_EoMToOdrB_H_Base.tab...'"
      ]
     },
     "metadata": {},
     "output_type": "display_data"
    },
    {
     "data": {
      "text/plain": [
       "'Processing X8_assm_EoMToOdrM_L_Base.tab...'"
      ]
     },
     "metadata": {},
     "output_type": "display_data"
    },
    {
     "data": {
      "text/plain": [
       "'Processing X8_assm_EoMToOdrM_H_Base.tab...'"
      ]
     },
     "metadata": {},
     "output_type": "display_data"
    },
    {
     "data": {
      "text/plain": [
       "'Processing X8_assm_EoMToOdrV_L_Base.tab...'"
      ]
     },
     "metadata": {},
     "output_type": "display_data"
    },
    {
     "data": {
      "text/plain": [
       "'Processing X8_assm_EoMToOdrV_H_Base.tab...'"
      ]
     },
     "metadata": {},
     "output_type": "display_data"
    },
    {
     "data": {
      "text/plain": [
       "'Processing X8_assm_Owm_L_Base.tab...'"
      ]
     },
     "metadata": {},
     "output_type": "display_data"
    },
    {
     "data": {
      "text/plain": [
       "'Processing X8_assm_Owm_H_Base.tab...'"
      ]
     },
     "metadata": {},
     "output_type": "display_data"
    },
    {
     "data": {
      "text/plain": [
       "'Processing X8_assm_Prdt_L_Base.tab...'"
      ]
     },
     "metadata": {},
     "output_type": "display_data"
    },
    {
     "data": {
      "text/plain": [
       "'Processing X8_assm_Prdt_H_Base.tab...'"
      ]
     },
     "metadata": {},
     "output_type": "display_data"
    },
    {
     "data": {
      "text/plain": [
       "'Processing X8_assm_Prit_L_Base.tab...'"
      ]
     },
     "metadata": {},
     "output_type": "display_data"
    },
    {
     "data": {
      "text/plain": [
       "'Processing X8_assm_Prit_H_Base.tab...'"
      ]
     },
     "metadata": {},
     "output_type": "display_data"
    },
    {
     "data": {
      "text/plain": [
       "'Processing X8_assm_PrwN_L_Base.tab...'"
      ]
     },
     "metadata": {},
     "output_type": "display_data"
    },
    {
     "data": {
      "text/plain": [
       "'Processing X8_assm_PrwN_H_Base.tab...'"
      ]
     },
     "metadata": {},
     "output_type": "display_data"
    },
    {
     "data": {
      "text/plain": [
       "'Processing X8_assm_POw_L_Base.tab...'"
      ]
     },
     "metadata": {},
     "output_type": "display_data"
    },
    {
     "data": {
      "text/plain": [
       "'Processing X8_assm_POw_H_Base.tab...'"
      ]
     },
     "metadata": {},
     "output_type": "display_data"
    },
    {
     "data": {
      "text/plain": [
       "'Processing X8_assm_Poces_L_Base.tab...'"
      ]
     },
     "metadata": {},
     "output_type": "display_data"
    },
    {
     "data": {
      "text/plain": [
       "'Processing X8_assm_Poces_H_Base.tab...'"
      ]
     },
     "metadata": {},
     "output_type": "display_data"
    },
    {
     "data": {
      "text/plain": [
       "'Processing X8_assm_RrHnMT_L_Base.tab...'"
      ]
     },
     "metadata": {},
     "output_type": "display_data"
    },
    {
     "data": {
      "text/plain": [
       "'Processing X8_assm_RrHnMT_H_Base.tab...'"
      ]
     },
     "metadata": {},
     "output_type": "display_data"
    },
    {
     "data": {
      "text/plain": [
       "'Processing X8_assm_RdHwROom_L_Base.tab...'"
      ]
     },
     "metadata": {},
     "output_type": "display_data"
    },
    {
     "data": {
      "text/plain": [
       "'Processing X8_assm_RdHwROom_H_Base.tab...'"
      ]
     },
     "metadata": {},
     "output_type": "display_data"
    },
    {
     "data": {
      "text/plain": [
       "'Processing X8_assm_RdROnH_L_Base.tab...'"
      ]
     },
     "metadata": {},
     "output_type": "display_data"
    },
    {
     "data": {
      "text/plain": [
       "'Processing X8_assm_RdROnH_H_Base.tab...'"
      ]
     },
     "metadata": {},
     "output_type": "display_data"
    },
    {
     "data": {
      "text/plain": [
       "'Processing X8_assm_SoRstprp_L_Base.tab...'"
      ]
     },
     "metadata": {},
     "output_type": "display_data"
    },
    {
     "data": {
      "text/plain": [
       "'Processing X8_assm_SoRstprp_H_Base.tab...'"
      ]
     },
     "metadata": {},
     "output_type": "display_data"
    },
    {
     "data": {
      "text/plain": [
       "'Processing X8_assm_SoRstRpp_L_Base.tab...'"
      ]
     },
     "metadata": {},
     "output_type": "display_data"
    },
    {
     "data": {
      "text/plain": [
       "'Processing X8_assm_SoRstRpp_H_Base.tab...'"
      ]
     },
     "metadata": {},
     "output_type": "display_data"
    },
    {
     "data": {
      "text/plain": [
       "'Processing X8_assm_SoRstdpp_L_Base.tab...'"
      ]
     },
     "metadata": {},
     "output_type": "display_data"
    },
    {
     "data": {
      "text/plain": [
       "'Processing X8_assm_SoRstdpp_H_Base.tab...'"
      ]
     },
     "metadata": {},
     "output_type": "display_data"
    },
    {
     "data": {
      "text/plain": [
       "'Processing X8_assm_SoRstMpd_L_Base.tab...'"
      ]
     },
     "metadata": {},
     "output_type": "display_data"
    },
    {
     "data": {
      "text/plain": [
       "'Processing X8_assm_SoRstMpd_H_Base.tab...'"
      ]
     },
     "metadata": {},
     "output_type": "display_data"
    },
    {
     "data": {
      "text/plain": [
       "'Processing X8_assm_TtrRss_L_Base.tab...'"
      ]
     },
     "metadata": {},
     "output_type": "display_data"
    },
    {
     "data": {
      "text/plain": [
       "'Processing X8_assm_TtrRss_H_Base.tab...'"
      ]
     },
     "metadata": {},
     "output_type": "display_data"
    },
    {
     "data": {
      "text/plain": [
       "'Processing X8_assm_TadB_L_Base.tab...'"
      ]
     },
     "metadata": {},
     "output_type": "display_data"
    },
    {
     "data": {
      "text/plain": [
       "'Processing X8_assm_TadB_H_Base.tab...'"
      ]
     },
     "metadata": {},
     "output_type": "display_data"
    },
    {
     "data": {
      "text/plain": [
       "'Processing X8_assm_TadM_L_Base.tab...'"
      ]
     },
     "metadata": {},
     "output_type": "display_data"
    },
    {
     "data": {
      "text/plain": [
       "'Processing X8_assm_TadM_H_Base.tab...'"
      ]
     },
     "metadata": {},
     "output_type": "display_data"
    },
    {
     "data": {
      "text/plain": [
       "'Processing X8_assm_TadV_L_Base.tab...'"
      ]
     },
     "metadata": {},
     "output_type": "display_data"
    },
    {
     "data": {
      "text/plain": [
       "'Processing X8_assm_TadV_H_Base.tab...'"
      ]
     },
     "metadata": {},
     "output_type": "display_data"
    },
    {
     "data": {
      "text/plain": [
       "'Processing X8_assm_TsfBH_L_Base.tab...'"
      ]
     },
     "metadata": {},
     "output_type": "display_data"
    },
    {
     "data": {
      "text/plain": [
       "'Processing X8_assm_TsfBH_H_Base.tab...'"
      ]
     },
     "metadata": {},
     "output_type": "display_data"
    },
    {
     "data": {
      "text/plain": [
       "'Processing X8_assm_TsfBRO_L_Base.tab...'"
      ]
     },
     "metadata": {},
     "output_type": "display_data"
    },
    {
     "data": {
      "text/plain": [
       "'Processing X8_assm_TsfBRO_H_Base.tab...'"
      ]
     },
     "metadata": {},
     "output_type": "display_data"
    },
    {
     "data": {
      "text/plain": [
       "'Processing X8_assm_TsfMHr_L_Base.tab...'"
      ]
     },
     "metadata": {},
     "output_type": "display_data"
    },
    {
     "data": {
      "text/plain": [
       "'Processing X8_assm_TsfMHr_H_Base.tab...'"
      ]
     },
     "metadata": {},
     "output_type": "display_data"
    },
    {
     "data": {
      "text/plain": [
       "'Processing X8_assm_TsfMROr_L_Base.tab...'"
      ]
     },
     "metadata": {},
     "output_type": "display_data"
    },
    {
     "data": {
      "text/plain": [
       "'Processing X8_assm_TsfMROr_H_Base.tab...'"
      ]
     },
     "metadata": {},
     "output_type": "display_data"
    },
    {
     "data": {
      "text/plain": [
       "'Processing X8_assm_TsrHrtROnH_L_Base.tab...'"
      ]
     },
     "metadata": {},
     "output_type": "display_data"
    },
    {
     "data": {
      "text/plain": [
       "'Processing X8_assm_TsrHrtROnH_H_Base.tab...'"
      ]
     },
     "metadata": {},
     "output_type": "display_data"
    },
    {
     "data": {
      "text/plain": [
       "'Processing X8_assm_Tsfi_L_Base.tab...'"
      ]
     },
     "metadata": {},
     "output_type": "display_data"
    },
    {
     "data": {
      "text/plain": [
       "'Processing X8_assm_Tsfi_H_Base.tab...'"
      ]
     },
     "metadata": {},
     "output_type": "display_data"
    }
   ],
   "source": [
    "##### DATA FILE PREPARATION AND CLEANING #####\n",
    "\n",
    "os.chdir(basedir)\n",
    "os.makedirs('./Results', exist_ok=True)\n",
    "os.chdir('./Results')\n",
    "\n",
    "# Copy over all necessary files from other directories\n",
    "copy(f'../{baserunname}_main_fits.tab', './')\n",
    "copy(f'../{baserunname}_params.tab', './')\n",
    "for cin in (basescens + scenariolist):\n",
    "    copy(f'../Scenarios/{baserunname}_final_{cin[:-4]}.tab', './')\n",
    "    copy(f'../Scenarios/{baserunname}_sens_{cin[:-4]}_clean.tab', './')\n",
    "for cin in basescens[0:2]:\n",
    "    for proj in proj_subs:\n",
    "        copy(f'../Scenarios/{baserunname}_final_{cin[:-4]}{proj}.tab', './')\n",
    "        copy(f'../Scenarios/{baserunname}_sens_{cin[:-4]}{proj}_clean.tab', './')\n",
    "\n",
    "# Clean & process projection & policy scenario results\n",
    "for scen in [cin[:-4] for cin in (basescens + scenariolist)]:\n",
    "    clean_final(baserunname, scen)\n",
    "    clean_sens(baserunname, scen, fitlist)\n",
    "    \n",
    "for scen in [(cin[:-4] + pol[:-4]) for cin in basescens for pol in policylist]:\n",
    "    clean_final(baserunname, scen)\n",
    "    \n",
    "# Clean & process alternative data condition analysis results\n",
    "for scen in [f'{cin[:-4]}_{basescens[0][:-4]}' for cin in testlist]:\n",
    "    copy(f'../Sensitivity/{baserunname}_test_{scen}.tab', './')\n",
    "    copy(f'../Sensitivity/{baserunname}_test_params.tab', './')\n",
    "    clean_final(baserunname, scen, name='test')\n",
    "\n",
    "# Clean & process loop knockout sensitivity results\n",
    "copy(f'../Sensitivity/{baserunname}_lk_params.tab', './')\n",
    "for key in lkdict.keys():\n",
    "    for name in ['lk', 'lk_run']:\n",
    "        copy(f'../Sensitivity/{baserunname}_{name}_{key}_{basescens[0][:-4]}.tab', './')\n",
    "        clean_final(baserunname, f'{key}_{basescens[0][:-4]}', name=name)\n",
    "\n",
    "# Clean & process parametric assumptions sensitivity results\n",
    "sensdict = dict([[''.join([w[0] for w in regex.findall(r\"[\\w']+\", var)]), var] \n",
    "                 for var in sensvars])\n",
    "copy(f'../Sensitivity/{baserunname}_assm_params.tab', './')\n",
    "for key in sensdict.keys():\n",
    "    for sfx in ['_L', '_H']:\n",
    "        copy(f'../Sensitivity/{baserunname}_assm_{key}{sfx}_{basescens[0][:-4]}.tab', './')\n",
    "        clean_final(baserunname, f'{key}{sfx}_{basescens[0][:-4]}', name='assm')"
   ]
  },
  {
   "cell_type": "code",
   "execution_count": 4,
   "metadata": {},
   "outputs": [
    {
     "data": {
      "text/html": [
       "<div>\n",
       "<style scoped>\n",
       "    .dataframe tbody tr th:only-of-type {\n",
       "        vertical-align: middle;\n",
       "    }\n",
       "\n",
       "    .dataframe tbody tr th {\n",
       "        vertical-align: top;\n",
       "    }\n",
       "\n",
       "    .dataframe thead th {\n",
       "        text-align: right;\n",
       "    }\n",
       "</style>\n",
       "<table border=\"1\" class=\"dataframe\">\n",
       "  <thead>\n",
       "    <tr style=\"text-align: right;\">\n",
       "      <th></th>\n",
       "      <th>MAEN</th>\n",
       "      <th>MAPE</th>\n",
       "      <th>R2</th>\n",
       "      <th>MSE</th>\n",
       "      <th>Um</th>\n",
       "      <th>Us</th>\n",
       "      <th>Uc</th>\n",
       "    </tr>\n",
       "  </thead>\n",
       "  <tbody>\n",
       "    <tr>\n",
       "      <th>Rx misuse</th>\n",
       "      <td>0.069915</td>\n",
       "      <td>0.077364</td>\n",
       "      <td>0.896295</td>\n",
       "      <td>4.697896e+11</td>\n",
       "      <td>0.005240</td>\n",
       "      <td>0.288046</td>\n",
       "      <td>0.706714</td>\n",
       "    </tr>\n",
       "    <tr>\n",
       "      <th>Rx OUD no heroin</th>\n",
       "      <td>0.098521</td>\n",
       "      <td>0.102244</td>\n",
       "      <td>0.774939</td>\n",
       "      <td>4.809465e+10</td>\n",
       "      <td>0.034820</td>\n",
       "      <td>0.050344</td>\n",
       "      <td>0.914836</td>\n",
       "    </tr>\n",
       "    <tr>\n",
       "      <th>Rx OUD with heroin</th>\n",
       "      <td>0.253866</td>\n",
       "      <td>0.310120</td>\n",
       "      <td>0.717824</td>\n",
       "      <td>2.028300e+09</td>\n",
       "      <td>0.001739</td>\n",
       "      <td>0.170136</td>\n",
       "      <td>0.828125</td>\n",
       "    </tr>\n",
       "    <tr>\n",
       "      <th>Nondisordered heroin use</th>\n",
       "      <td>0.266286</td>\n",
       "      <td>0.269278</td>\n",
       "      <td>0.200870</td>\n",
       "      <td>4.142804e+10</td>\n",
       "      <td>0.004651</td>\n",
       "      <td>0.145329</td>\n",
       "      <td>0.850020</td>\n",
       "    </tr>\n",
       "    <tr>\n",
       "      <th>Heroin use disorder</th>\n",
       "      <td>0.116095</td>\n",
       "      <td>0.118851</td>\n",
       "      <td>0.836071</td>\n",
       "      <td>4.885255e+10</td>\n",
       "      <td>0.007466</td>\n",
       "      <td>0.032355</td>\n",
       "      <td>0.960179</td>\n",
       "    </tr>\n",
       "    <tr>\n",
       "      <th>MOUD Tx (buprenorphine)</th>\n",
       "      <td>0.030501</td>\n",
       "      <td>0.111890</td>\n",
       "      <td>0.997619</td>\n",
       "      <td>1.810982e+08</td>\n",
       "      <td>0.006632</td>\n",
       "      <td>0.071948</td>\n",
       "      <td>0.921420</td>\n",
       "    </tr>\n",
       "    <tr>\n",
       "      <th>MOUD Tx (methadone)</th>\n",
       "      <td>0.015621</td>\n",
       "      <td>0.024677</td>\n",
       "      <td>0.953486</td>\n",
       "      <td>2.317115e+08</td>\n",
       "      <td>0.031656</td>\n",
       "      <td>0.089511</td>\n",
       "      <td>0.878834</td>\n",
       "    </tr>\n",
       "    <tr>\n",
       "      <th>MOUD Tx (Vivitrol)</th>\n",
       "      <td>0.021976</td>\n",
       "      <td>0.039537</td>\n",
       "      <td>0.999564</td>\n",
       "      <td>8.820677e+04</td>\n",
       "      <td>0.205188</td>\n",
       "      <td>0.155055</td>\n",
       "      <td>0.639757</td>\n",
       "    </tr>\n",
       "    <tr>\n",
       "      <th>Rx misuse initiation (own Rx)</th>\n",
       "      <td>0.098050</td>\n",
       "      <td>0.110611</td>\n",
       "      <td>0.506337</td>\n",
       "      <td>1.508846e+09</td>\n",
       "      <td>0.000663</td>\n",
       "      <td>0.000492</td>\n",
       "      <td>0.998844</td>\n",
       "    </tr>\n",
       "    <tr>\n",
       "      <th>Rx misuse initiation (diverted)</th>\n",
       "      <td>0.047379</td>\n",
       "      <td>0.054549</td>\n",
       "      <td>0.952787</td>\n",
       "      <td>8.577663e+09</td>\n",
       "      <td>0.007944</td>\n",
       "      <td>0.012123</td>\n",
       "      <td>0.979933</td>\n",
       "    </tr>\n",
       "    <tr>\n",
       "      <th>Total heroin initiation</th>\n",
       "      <td>0.192537</td>\n",
       "      <td>0.211199</td>\n",
       "      <td>0.512883</td>\n",
       "      <td>7.673682e+09</td>\n",
       "      <td>0.030050</td>\n",
       "      <td>0.011592</td>\n",
       "      <td>0.958357</td>\n",
       "    </tr>\n",
       "    <tr>\n",
       "      <th>Heroin initiation (direct)</th>\n",
       "      <td>0.223439</td>\n",
       "      <td>0.249169</td>\n",
       "      <td>0.192371</td>\n",
       "      <td>7.989262e+08</td>\n",
       "      <td>0.000623</td>\n",
       "      <td>0.500323</td>\n",
       "      <td>0.499054</td>\n",
       "    </tr>\n",
       "    <tr>\n",
       "      <th>Heroin initiation (Rx misuse)</th>\n",
       "      <td>0.204577</td>\n",
       "      <td>0.242078</td>\n",
       "      <td>0.581826</td>\n",
       "      <td>1.245549e+09</td>\n",
       "      <td>0.015306</td>\n",
       "      <td>0.021837</td>\n",
       "      <td>0.962857</td>\n",
       "    </tr>\n",
       "    <tr>\n",
       "      <th>Heroin initiation (Rx OUD)</th>\n",
       "      <td>0.188971</td>\n",
       "      <td>0.241008</td>\n",
       "      <td>0.753877</td>\n",
       "      <td>1.082757e+09</td>\n",
       "      <td>0.014995</td>\n",
       "      <td>0.004098</td>\n",
       "      <td>0.980908</td>\n",
       "    </tr>\n",
       "    <tr>\n",
       "      <th>Overdose deaths (Rx opioids only)</th>\n",
       "      <td>0.094244</td>\n",
       "      <td>0.113754</td>\n",
       "      <td>0.894030</td>\n",
       "      <td>1.388575e+06</td>\n",
       "      <td>0.000274</td>\n",
       "      <td>0.372685</td>\n",
       "      <td>0.627041</td>\n",
       "    </tr>\n",
       "    <tr>\n",
       "      <th>Overdose deaths (heroin &amp; illicit synthetics)</th>\n",
       "      <td>0.192594</td>\n",
       "      <td>0.424424</td>\n",
       "      <td>0.968667</td>\n",
       "      <td>9.281391e+06</td>\n",
       "      <td>0.008444</td>\n",
       "      <td>0.220897</td>\n",
       "      <td>0.770659</td>\n",
       "    </tr>\n",
       "    <tr>\n",
       "      <th>Overdose deaths (synthetics base)</th>\n",
       "      <td>0.087946</td>\n",
       "      <td>0.085705</td>\n",
       "      <td>0.900179</td>\n",
       "      <td>5.798509e+04</td>\n",
       "      <td>0.026630</td>\n",
       "      <td>0.056269</td>\n",
       "      <td>0.917101</td>\n",
       "    </tr>\n",
       "    <tr>\n",
       "      <th>Total overdose deaths</th>\n",
       "      <td>0.083046</td>\n",
       "      <td>0.093513</td>\n",
       "      <td>0.969199</td>\n",
       "      <td>8.185677e+06</td>\n",
       "      <td>0.010158</td>\n",
       "      <td>0.101007</td>\n",
       "      <td>0.888834</td>\n",
       "    </tr>\n",
       "    <tr>\n",
       "      <th>Total Rx opioid use disorder</th>\n",
       "      <td>0.093831</td>\n",
       "      <td>0.099618</td>\n",
       "      <td>0.798212</td>\n",
       "      <td>5.462586e+10</td>\n",
       "      <td>0.033535</td>\n",
       "      <td>0.038001</td>\n",
       "      <td>0.928463</td>\n",
       "    </tr>\n",
       "    <tr>\n",
       "      <th>Total Rx misuse initiation</th>\n",
       "      <td>0.052506</td>\n",
       "      <td>0.061110</td>\n",
       "      <td>0.934020</td>\n",
       "      <td>1.470457e+10</td>\n",
       "      <td>0.005825</td>\n",
       "      <td>0.001829</td>\n",
       "      <td>0.992345</td>\n",
       "    </tr>\n",
       "    <tr>\n",
       "      <th>Overdose deaths (Rx + Rx synthetics)</th>\n",
       "      <td>0.083713</td>\n",
       "      <td>0.100867</td>\n",
       "      <td>0.967619</td>\n",
       "      <td>1.595705e+06</td>\n",
       "      <td>0.123518</td>\n",
       "      <td>0.567432</td>\n",
       "      <td>0.309050</td>\n",
       "    </tr>\n",
       "    <tr>\n",
       "      <th>Average</th>\n",
       "      <td>0.126976</td>\n",
       "      <td>0.159998</td>\n",
       "      <td>0.756046</td>\n",
       "      <td>3.508402e+10</td>\n",
       "      <td>0.022916</td>\n",
       "      <td>0.128003</td>\n",
       "      <td>0.849082</td>\n",
       "    </tr>\n",
       "  </tbody>\n",
       "</table>\n",
       "</div>"
      ],
      "text/plain": [
       "                                                   MAEN      MAPE        R2  \\\n",
       "Rx misuse                                      0.069915  0.077364  0.896295   \n",
       "Rx OUD no heroin                               0.098521  0.102244  0.774939   \n",
       "Rx OUD with heroin                             0.253866  0.310120  0.717824   \n",
       "Nondisordered heroin use                       0.266286  0.269278  0.200870   \n",
       "Heroin use disorder                            0.116095  0.118851  0.836071   \n",
       "MOUD Tx (buprenorphine)                        0.030501  0.111890  0.997619   \n",
       "MOUD Tx (methadone)                            0.015621  0.024677  0.953486   \n",
       "MOUD Tx (Vivitrol)                             0.021976  0.039537  0.999564   \n",
       "Rx misuse initiation (own Rx)                  0.098050  0.110611  0.506337   \n",
       "Rx misuse initiation (diverted)                0.047379  0.054549  0.952787   \n",
       "Total heroin initiation                        0.192537  0.211199  0.512883   \n",
       "Heroin initiation (direct)                     0.223439  0.249169  0.192371   \n",
       "Heroin initiation (Rx misuse)                  0.204577  0.242078  0.581826   \n",
       "Heroin initiation (Rx OUD)                     0.188971  0.241008  0.753877   \n",
       "Overdose deaths (Rx opioids only)              0.094244  0.113754  0.894030   \n",
       "Overdose deaths (heroin & illicit synthetics)  0.192594  0.424424  0.968667   \n",
       "Overdose deaths (synthetics base)              0.087946  0.085705  0.900179   \n",
       "Total overdose deaths                          0.083046  0.093513  0.969199   \n",
       "Total Rx opioid use disorder                   0.093831  0.099618  0.798212   \n",
       "Total Rx misuse initiation                     0.052506  0.061110  0.934020   \n",
       "Overdose deaths (Rx + Rx synthetics)           0.083713  0.100867  0.967619   \n",
       "Average                                        0.126976  0.159998  0.756046   \n",
       "\n",
       "                                                        MSE        Um  \\\n",
       "Rx misuse                                      4.697896e+11  0.005240   \n",
       "Rx OUD no heroin                               4.809465e+10  0.034820   \n",
       "Rx OUD with heroin                             2.028300e+09  0.001739   \n",
       "Nondisordered heroin use                       4.142804e+10  0.004651   \n",
       "Heroin use disorder                            4.885255e+10  0.007466   \n",
       "MOUD Tx (buprenorphine)                        1.810982e+08  0.006632   \n",
       "MOUD Tx (methadone)                            2.317115e+08  0.031656   \n",
       "MOUD Tx (Vivitrol)                             8.820677e+04  0.205188   \n",
       "Rx misuse initiation (own Rx)                  1.508846e+09  0.000663   \n",
       "Rx misuse initiation (diverted)                8.577663e+09  0.007944   \n",
       "Total heroin initiation                        7.673682e+09  0.030050   \n",
       "Heroin initiation (direct)                     7.989262e+08  0.000623   \n",
       "Heroin initiation (Rx misuse)                  1.245549e+09  0.015306   \n",
       "Heroin initiation (Rx OUD)                     1.082757e+09  0.014995   \n",
       "Overdose deaths (Rx opioids only)              1.388575e+06  0.000274   \n",
       "Overdose deaths (heroin & illicit synthetics)  9.281391e+06  0.008444   \n",
       "Overdose deaths (synthetics base)              5.798509e+04  0.026630   \n",
       "Total overdose deaths                          8.185677e+06  0.010158   \n",
       "Total Rx opioid use disorder                   5.462586e+10  0.033535   \n",
       "Total Rx misuse initiation                     1.470457e+10  0.005825   \n",
       "Overdose deaths (Rx + Rx synthetics)           1.595705e+06  0.123518   \n",
       "Average                                        3.508402e+10  0.022916   \n",
       "\n",
       "                                                     Us        Uc  \n",
       "Rx misuse                                      0.288046  0.706714  \n",
       "Rx OUD no heroin                               0.050344  0.914836  \n",
       "Rx OUD with heroin                             0.170136  0.828125  \n",
       "Nondisordered heroin use                       0.145329  0.850020  \n",
       "Heroin use disorder                            0.032355  0.960179  \n",
       "MOUD Tx (buprenorphine)                        0.071948  0.921420  \n",
       "MOUD Tx (methadone)                            0.089511  0.878834  \n",
       "MOUD Tx (Vivitrol)                             0.155055  0.639757  \n",
       "Rx misuse initiation (own Rx)                  0.000492  0.998844  \n",
       "Rx misuse initiation (diverted)                0.012123  0.979933  \n",
       "Total heroin initiation                        0.011592  0.958357  \n",
       "Heroin initiation (direct)                     0.500323  0.499054  \n",
       "Heroin initiation (Rx misuse)                  0.021837  0.962857  \n",
       "Heroin initiation (Rx OUD)                     0.004098  0.980908  \n",
       "Overdose deaths (Rx opioids only)              0.372685  0.627041  \n",
       "Overdose deaths (heroin & illicit synthetics)  0.220897  0.770659  \n",
       "Overdose deaths (synthetics base)              0.056269  0.917101  \n",
       "Total overdose deaths                          0.101007  0.888834  \n",
       "Total Rx opioid use disorder                   0.038001  0.928463  \n",
       "Total Rx misuse initiation                     0.001829  0.992345  \n",
       "Overdose deaths (Rx + Rx synthetics)           0.567432  0.309050  \n",
       "Average                                        0.128003  0.849082  "
      ]
     },
     "metadata": {},
     "output_type": "display_data"
    }
   ],
   "source": [
    "##### CALCULATE AGGREGATED VARIABLES, STD ERRS & GOF STATISICS #####\n",
    "\n",
    "fitdict = dict(fitlist)\n",
    "\n",
    "# Specify aggregate variables to calculate w/ labels\n",
    "sumlist = [('ROUT', 'ROUD', 'ROUH'), ('InRT', 'InRM', 'InRD'), ('ODRT', 'ODRB', 'ODSB')]\n",
    "fitdict['ROUT'] = 'Total Rx opioid use disorder'\n",
    "fitdict['InRT'] = 'Total Rx misuse initiation'\n",
    "fitdict['ODRT'] = 'Overdose deaths (Rx + Rx synthetics)'\n",
    "\n",
    "# Calculate aggregates for various results tabfiles\n",
    "insert_sums(f'{baserunname}_main_fits.tab', sumlist)\n",
    "for cin in basescens + scenariolist:\n",
    "    insert_sums(f'{baserunname}_final_{cin[:-4]}_vars.tab', sumlist, \n",
    "                sumvars=['SimVar', 'DataVar', 'RepVar'])\n",
    "    insert_sums(f'{baserunname}_sens_{cin[:-4]}_clean.tab', sumlist, \n",
    "                sumvars=['SimVar', 'RepVar'], index_col=[0,1])\n",
    "\n",
    "# Read and append standard error terms where available\n",
    "tssd = pd.read_excel('../../Time series standard deviations.xlsx', \n",
    "                     sheet_name='Summary', index_col=[0,1], header=1)\n",
    "\n",
    "stderrdict = {} # Initialise container for stderrs\n",
    "stderrdict['DataErr[InRT]'] = tssd.loc[\n",
    "    ('Total Rx misuse initiation SAMHSA', 'Standard Error of Weighted Mean')]\n",
    "stderrdict['DataErr[InHT]'] = tssd.loc[('Total heroin initiation SAMHSA', 'RAND Multiplied SE')]\n",
    "stderrdict['DataErr[ROUT]'] = (\n",
    "    tssd.loc[('Rx OUD no PY heroin NSDUH', 'Standard Error of Weighted Mean')] \n",
    "    + tssd.loc[('Rx OUD + H NSDUH RAND', 'RAND Multiplied SE')])\n",
    "stderrdict['DataErr[HUD]'] = tssd.loc[('HUD NSDUH RAND', 'RAND Multiplied SE')]\n",
    "\n",
    "stderrs = pd.concat(stderrdict, axis=1).T # Concatenate stderr series and transpose\n",
    "stderrs.columns = stderrs.columns.astype('str')\n",
    "\n",
    "fits = pd.read_csv(f'{baserunname}_main_fits.tab', sep='\\t', index_col=0)\n",
    "fits = pd.concat([fits, stderrs])\n",
    "\n",
    "fits.to_csv(f'{baserunname}_main_fits.tab', sep='\\t')\n",
    "\n",
    "# Calculate goodness-of-fit statistics\n",
    "fits = fits[fits.columns[::4]]\n",
    "gofs = [[*calc_gof(fits, f'SimVar[{elm}]', f'DataVar[{elm}]')] for elm in fitdict.keys()]\n",
    "\n",
    "gofdf = pd.DataFrame(gofs, index=fitdict.values(), \n",
    "                     columns=['MAEN', 'MAPE', 'R2', 'MSE', 'Um', 'Us', 'Uc'])\n",
    "gofdf.loc['Average'] = gofdf.iloc[0:-3].mean() # Leave out calculated aggregates from average\n",
    "gofdf.to_csv(f'{baserunname}_GOF.tab', sep='\\t')\n",
    "display(gofdf)"
   ]
  },
  {
   "cell_type": "code",
   "execution_count": 5,
   "metadata": {},
   "outputs": [],
   "source": [
    "##### COMPILE AND EXPORT INPUT VALUES AND SELECTED YEAR-BY-YEAR VALUES #####\n",
    "\n",
    "# Assemble input time series projection values\n",
    "t = pd.read_csv(f'{baserunname}_final_{basescens[0][:-4]}_vars.tab', sep='\\t', index_col=0)\n",
    "p = pd.read_csv(f'{baserunname}_final_{scenariolist[0][:-4]}_vars.tab', sep='\\t', index_col=0)\n",
    "n = pd.read_csv(f'{baserunname}_final_{scenariolist[1][:-4]}_vars.tab', sep='\\t', index_col=0)\n",
    "\n",
    "inputslist = [f'Input\\t{endyear}\\t{projyear}\\tOptimistic\\tPessimistic\\n'] # Initialise with column labels\n",
    "for proj in proj_subs:\n",
    "    endval = t.loc[f'Projection output data[{proj}]', str(endyear)]\n",
    "    projval = t.loc[f'Projection output data[{proj}]', str(projyear)]\n",
    "    posval = p.loc[f'Projection output data[{proj}]', str(projyear)]\n",
    "    negval = n.loc[f'Projection output data[{proj}]', str(projyear)]\n",
    "    inputslist.append(f'{proj}\\t{endval}\\t{projval}\\t{posval}\\t{negval}\\n')\n",
    "    \n",
    "with open(f'{baserunname}_inputs.tab', 'w') as f:\n",
    "    f.writelines(inputslist)\n",
    "del t\n",
    "\n",
    "# Compile yearvals output for specified variables and years from sensitivity projections\n",
    "t = pd.read_csv(f'{baserunname}_final_{basescens[0][:-4]}_vars.tab', sep='\\t', index_col=0)\n",
    "s = pd.read_csv(f'{baserunname}_sens_{basescens[0][:-4]}_clean.tab', sep='\\t', index_col=[0,1])\n",
    "\n",
    "vartext = [f'Year\\tVal\\t{yv_percs[0]}\\t{yv_percs[1]}\\n'] # Initialise with column labels\n",
    "for var in yearvals:\n",
    "    vartext.extend(get_year_values(t, s, var, years, yv_percs, var))\n",
    "\n",
    "# Add prior values\n",
    "for prior in priorlist:\n",
    "    vartext.extend(get_year_values(t, s, f'SimPrior[{prior[0]}]', [prior[1]], yv_percs, prior[2]))\n",
    "\n",
    "# Get projection end values for each main scenario\n",
    "for cin in (basescens[:1] + scenariolist[0:2]):\n",
    "    t = pd.read_csv(f'{baserunname}_final_{cin[:-4]}_vars.tab', sep='\\t', index_col=0)\n",
    "    s = pd.read_csv(f'{baserunname}_sens_{cin[:-4]}_clean.tab', sep='\\t', index_col=[0,1])\n",
    "    \n",
    "    for var in projvars:\n",
    "        vartext.extend(get_year_values(t, s, var, [str(projyear)], yv_percs, cin[:-4] + ' ' + var))\n",
    "\n",
    "with open(f'{baserunname}_yearvals.tab', 'w') as f:\n",
    "    f.writelines(vartext)"
   ]
  },
  {
   "cell_type": "code",
   "execution_count": 6,
   "metadata": {},
   "outputs": [
    {
     "data": {
      "text/html": [
       "<div>\n",
       "<style scoped>\n",
       "    .dataframe tbody tr th:only-of-type {\n",
       "        vertical-align: middle;\n",
       "    }\n",
       "\n",
       "    .dataframe tbody tr th {\n",
       "        vertical-align: top;\n",
       "    }\n",
       "\n",
       "    .dataframe thead th {\n",
       "        text-align: right;\n",
       "    }\n",
       "</style>\n",
       "<table border=\"1\" class=\"dataframe\">\n",
       "  <thead>\n",
       "    <tr style=\"text-align: right;\">\n",
       "      <th></th>\n",
       "      <th>Base Projected cumulative overdose deaths</th>\n",
       "      <th>Base Projected cumulative UD person years</th>\n",
       "      <th>Cnst Projected cumulative overdose deaths</th>\n",
       "      <th>Cnst Projected cumulative UD person years</th>\n",
       "      <th>Avg Projected cumulative overdose deaths</th>\n",
       "      <th>Avg Projected cumulative UD person years</th>\n",
       "    </tr>\n",
       "  </thead>\n",
       "  <tbody>\n",
       "    <tr>\n",
       "      <th>Fent</th>\n",
       "      <td>-0.197057</td>\n",
       "      <td>0.015097</td>\n",
       "      <td>0.244989</td>\n",
       "      <td>-0.015885</td>\n",
       "      <td>-0.221023</td>\n",
       "      <td>0.015491</td>\n",
       "    </tr>\n",
       "    <tr>\n",
       "      <th>NxKD</th>\n",
       "      <td>0.043895</td>\n",
       "      <td>-0.003185</td>\n",
       "      <td>-0.040737</td>\n",
       "      <td>0.002592</td>\n",
       "      <td>0.042316</td>\n",
       "      <td>-0.002889</td>\n",
       "    </tr>\n",
       "    <tr>\n",
       "      <th>HPI</th>\n",
       "      <td>0.000369</td>\n",
       "      <td>0.000060</td>\n",
       "      <td>-0.000338</td>\n",
       "      <td>-0.000068</td>\n",
       "      <td>0.000354</td>\n",
       "      <td>0.000064</td>\n",
       "    </tr>\n",
       "    <tr>\n",
       "      <th>BMDCap</th>\n",
       "      <td>0.001204</td>\n",
       "      <td>0.000282</td>\n",
       "      <td>-0.001389</td>\n",
       "      <td>-0.000398</td>\n",
       "      <td>0.001297</td>\n",
       "      <td>0.000340</td>\n",
       "    </tr>\n",
       "    <tr>\n",
       "      <th>MMTCap</th>\n",
       "      <td>0.070109</td>\n",
       "      <td>0.013703</td>\n",
       "      <td>-0.062156</td>\n",
       "      <td>-0.013356</td>\n",
       "      <td>0.066132</td>\n",
       "      <td>0.013529</td>\n",
       "    </tr>\n",
       "    <tr>\n",
       "      <th>VivCap</th>\n",
       "      <td>0.003535</td>\n",
       "      <td>0.002020</td>\n",
       "      <td>-0.003451</td>\n",
       "      <td>-0.001890</td>\n",
       "      <td>0.003493</td>\n",
       "      <td>0.001955</td>\n",
       "    </tr>\n",
       "    <tr>\n",
       "      <th>PtRx</th>\n",
       "      <td>0.021198</td>\n",
       "      <td>0.030998</td>\n",
       "      <td>-0.026068</td>\n",
       "      <td>-0.035875</td>\n",
       "      <td>0.023633</td>\n",
       "      <td>0.033436</td>\n",
       "    </tr>\n",
       "    <tr>\n",
       "      <th>RxPP</th>\n",
       "      <td>0.002668</td>\n",
       "      <td>0.003860</td>\n",
       "      <td>-0.004451</td>\n",
       "      <td>-0.006372</td>\n",
       "      <td>0.003560</td>\n",
       "      <td>0.005116</td>\n",
       "    </tr>\n",
       "    <tr>\n",
       "      <th>RxDur</th>\n",
       "      <td>-0.004363</td>\n",
       "      <td>-0.006037</td>\n",
       "      <td>0.008330</td>\n",
       "      <td>0.011625</td>\n",
       "      <td>-0.006346</td>\n",
       "      <td>-0.008831</td>\n",
       "    </tr>\n",
       "    <tr>\n",
       "      <th>MME</th>\n",
       "      <td>0.009216</td>\n",
       "      <td>0.021112</td>\n",
       "      <td>-0.013833</td>\n",
       "      <td>-0.027296</td>\n",
       "      <td>0.011525</td>\n",
       "      <td>0.024204</td>\n",
       "    </tr>\n",
       "    <tr>\n",
       "      <th>ADF</th>\n",
       "      <td>-0.000068</td>\n",
       "      <td>-0.000005</td>\n",
       "      <td>0.000061</td>\n",
       "      <td>0.000000</td>\n",
       "      <td>-0.000065</td>\n",
       "      <td>-0.000003</td>\n",
       "    </tr>\n",
       "    <tr>\n",
       "      <th>MAC</th>\n",
       "      <td>0.032153</td>\n",
       "      <td>0.008760</td>\n",
       "      <td>0.036891</td>\n",
       "      <td>0.010487</td>\n",
       "      <td>0.034522</td>\n",
       "      <td>0.009623</td>\n",
       "    </tr>\n",
       "  </tbody>\n",
       "</table>\n",
       "</div>"
      ],
      "text/plain": [
       "        Base Projected cumulative overdose deaths  \\\n",
       "Fent                                    -0.197057   \n",
       "NxKD                                     0.043895   \n",
       "HPI                                      0.000369   \n",
       "BMDCap                                   0.001204   \n",
       "MMTCap                                   0.070109   \n",
       "VivCap                                   0.003535   \n",
       "PtRx                                     0.021198   \n",
       "RxPP                                     0.002668   \n",
       "RxDur                                   -0.004363   \n",
       "MME                                      0.009216   \n",
       "ADF                                     -0.000068   \n",
       "MAC                                      0.032153   \n",
       "\n",
       "        Base Projected cumulative UD person years  \\\n",
       "Fent                                     0.015097   \n",
       "NxKD                                    -0.003185   \n",
       "HPI                                      0.000060   \n",
       "BMDCap                                   0.000282   \n",
       "MMTCap                                   0.013703   \n",
       "VivCap                                   0.002020   \n",
       "PtRx                                     0.030998   \n",
       "RxPP                                     0.003860   \n",
       "RxDur                                   -0.006037   \n",
       "MME                                      0.021112   \n",
       "ADF                                     -0.000005   \n",
       "MAC                                      0.008760   \n",
       "\n",
       "        Cnst Projected cumulative overdose deaths  \\\n",
       "Fent                                     0.244989   \n",
       "NxKD                                    -0.040737   \n",
       "HPI                                     -0.000338   \n",
       "BMDCap                                  -0.001389   \n",
       "MMTCap                                  -0.062156   \n",
       "VivCap                                  -0.003451   \n",
       "PtRx                                    -0.026068   \n",
       "RxPP                                    -0.004451   \n",
       "RxDur                                    0.008330   \n",
       "MME                                     -0.013833   \n",
       "ADF                                      0.000061   \n",
       "MAC                                      0.036891   \n",
       "\n",
       "        Cnst Projected cumulative UD person years  \\\n",
       "Fent                                    -0.015885   \n",
       "NxKD                                     0.002592   \n",
       "HPI                                     -0.000068   \n",
       "BMDCap                                  -0.000398   \n",
       "MMTCap                                  -0.013356   \n",
       "VivCap                                  -0.001890   \n",
       "PtRx                                    -0.035875   \n",
       "RxPP                                    -0.006372   \n",
       "RxDur                                    0.011625   \n",
       "MME                                     -0.027296   \n",
       "ADF                                      0.000000   \n",
       "MAC                                      0.010487   \n",
       "\n",
       "        Avg Projected cumulative overdose deaths  \\\n",
       "Fent                                   -0.221023   \n",
       "NxKD                                    0.042316   \n",
       "HPI                                     0.000354   \n",
       "BMDCap                                  0.001297   \n",
       "MMTCap                                  0.066132   \n",
       "VivCap                                  0.003493   \n",
       "PtRx                                    0.023633   \n",
       "RxPP                                    0.003560   \n",
       "RxDur                                  -0.006346   \n",
       "MME                                     0.011525   \n",
       "ADF                                    -0.000065   \n",
       "MAC                                     0.034522   \n",
       "\n",
       "        Avg Projected cumulative UD person years  \n",
       "Fent                                    0.015491  \n",
       "NxKD                                   -0.002889  \n",
       "HPI                                     0.000064  \n",
       "BMDCap                                  0.000340  \n",
       "MMTCap                                  0.013529  \n",
       "VivCap                                  0.001955  \n",
       "PtRx                                    0.033436  \n",
       "RxPP                                    0.005116  \n",
       "RxDur                                  -0.008831  \n",
       "MME                                     0.024204  \n",
       "ADF                                    -0.000003  \n",
       "MAC                                     0.009623  "
      ]
     },
     "execution_count": 6,
     "metadata": {},
     "output_type": "execute_result"
    }
   ],
   "source": [
    "##### ALTERNATIVE PROJECTION ASSUMPTIONS SENSITIVITY ANALYSIS #####\n",
    "\n",
    "dflist = [] # Initialise empty container\n",
    "\n",
    "# Iterate through using each basescen as reference point\n",
    "for cin in basescens[0:2]:\n",
    "    first = f'{baserunname}_sens_{cin[:-4]}_clean.tab' # Specify reference scenario\n",
    "\n",
    "    # Calculate comparison for each projection assumption\n",
    "    vals_chgs = []\n",
    "    for proj in proj_subs:\n",
    "        second = f'{baserunname}_sens_{cin[:-4]}{proj}_clean.tab'\n",
    "        vals_chgs.append(compare_vals(first, second, projvars, projyear))\n",
    "    dflist.append(pd.DataFrame(vals_chgs, index=proj_subs, columns=projvars))\n",
    "\n",
    "avgchgdf = (dflist[0] - dflist[1]) / 2 # NOTE: expressed as delta from basescens[0] to [1]\n",
    "dflist.append(avgchgdf)\n",
    "\n",
    "# Assemble and export comparison results\n",
    "cols = [f'{cin} {var}' for cin in ['Base', 'Cnst', 'Avg'] for var in projvars]\n",
    "chgsdf = pd.concat(dflist, axis=1)\n",
    "chgsdf.loc['MAC'] = abs(chgsdf).mean() # Calculate mean absolute change\n",
    "chgsdf.columns = cols\n",
    "chgsdf.to_csv(f'{baserunname}_proj_changes.tab', sep='\\t')\n",
    "\n",
    "chgsdf"
   ]
  },
  {
   "cell_type": "code",
   "execution_count": 7,
   "metadata": {
    "scrolled": true
   },
   "outputs": [],
   "source": [
    "##### PRODUCE SUMMARY TABLES FROM POLICY ANALYSIS #####\n",
    "\n",
    "# Process annual and cumulative main results for each scenario and baseline case\n",
    "for cin in basescens:\n",
    "    # Read in baseline results\n",
    "    b = pd.read_csv(f'{baserunname}_final_{cin[:-4]}_vars.tab', sep='\\t', index_col=0)\n",
    "    resdict = {'Baseline': b.loc[annvars]}\n",
    "    curdict = {'Baseline': b.loc[projvars]}\n",
    "    cumdf = pd.DataFrame(columns=projvars) # Initialise container dataframe\n",
    "    cumdf.loc['Baseline'] = [b.loc[var, str(projyear)] - b.loc[var, str(polstart)] \n",
    "                             for var in projvars] # Re-zero to polstart year value\n",
    "    del b # Clear results to free up memory\n",
    "\n",
    "    for pol in policylist:\n",
    "        # Read in results for each scenario\n",
    "        scen = cin[:-4] + pol[:-4]\n",
    "        t = pd.read_csv(f'{baserunname}_final_{scen}_vars.tab', sep='\\t', index_col=0)\n",
    "        resdict[pol[:-4]] = t.loc[annvars]\n",
    "        curdict[pol[:-4]] = t.loc[projvars]\n",
    "        cumdf.loc[pol[:-4]] = [t.loc[var, str(projyear)] - t.loc[var, str(polstart)] \n",
    "                               for var in projvars] # Re-zero to polstart year value\n",
    "        \n",
    "    # Compile cumulative and annual results dataframes\n",
    "    resdf = pd.concat(resdict, names=['Scenario', 'Var'])\n",
    "    curdf = pd.concat(curdict, names=['Scenario', 'Var'])\n",
    "    curdf = curdf.subtract(curdf[str(polstart)], axis=0)\n",
    "    resdf = pd.concat([resdf, curdf])\n",
    "    resdf = resdf.reorder_levels(['Var', 'Scenario']).sort_index()\n",
    "    resdf = resdf.loc[:, str(polstart):]\n",
    "    \n",
    "    # Calculate % changes\n",
    "    chgdict = {}\n",
    "    for var in annvars: # Calculate and append for annual results\n",
    "        chgvar = f'% change in {var}'\n",
    "        chgdict[chgvar] = ((resdf.loc[var] - resdf.loc[(var, 'Baseline')]) \n",
    "                           / resdf.loc[(var, 'Baseline')]) # Calculate % change from baseline\n",
    "    chgdf = pd.concat(chgdict)\n",
    "    resdf = resdf.append(chgdf)\n",
    "    \n",
    "    for var in projvars: # Calculate and append for cumulative results\n",
    "        chgvar = f'% change in {var}'\n",
    "        cumdf[chgvar] = (cumdf[var] - cumdf.loc['Baseline', var])/ cumdf.loc['Baseline', var]\n",
    "\n",
    "    # Rename scenarios with specified labels\n",
    "    resdf.rename(polnames, inplace=True)\n",
    "    cumdf.rename(polnames, inplace=True)\n",
    "\n",
    "    resdf.to_csv(f'{baserunname}_{cin[:-4]}_PolRes.tab', sep='\\t')\n",
    "    cumdf.to_csv(f'{baserunname}_{cin[:-4]}_PolTot.tab', sep='\\t')\n",
    "\n",
    "    \n",
    "# Process annual results with CrI quantiles from full sensitivity sample\n",
    "pollist = [f'{basescens[0][:-4]}{cin[:-4]}' for cin in policylist] # Compile list of scenarios\n",
    "\n",
    "poldict = {} # Initialise container for relevant results\n",
    "# Add main and sens results for each scenario to container\n",
    "for scen in pollist:\n",
    "    t = pd.read_csv(f'{baserunname}_final_{scen}_vars.tab', sep='\\t', index_col=0)\n",
    "    s = pd.read_csv(f'{baserunname}_sens_{scen}_clean.tab', sep='\\t', index_col=[0,1])\n",
    "    t.columns = t.columns.astype(float)\n",
    "    s.columns = s.columns.astype(float)\n",
    "    \n",
    "    scendict = {}\n",
    "    for var in polvars: # Add expected values from baserun to sensitivity dataframe\n",
    "        scendict[var] = s.loc[var].sort_values([polstart, styear, endyear])\n",
    "        scendict[var].loc['EV'] = t.loc[var]\n",
    "    poldict[scen] = pd.concat(scendict, keys=polvars, names=['Var', 'Run'])\n",
    "    del s, t # Clear results to free up memory\n",
    "\n",
    "# Compile new dataframe of scenario results with full sample\n",
    "projtable = pd.concat(poldict, names=['Scen', 'Var', 'Run'])\n",
    "projtable.to_csv(f'{baserunname}_polprojraw.tab', sep='\\t')\n",
    "\n",
    "p = projtable.loc[:, polstart:] # Subset results to relevant years\n",
    "p.index = p.index.droplevel('Run')\n",
    "\n",
    "# Calculate annual value quantiles at each time step based on full sample\n",
    "polprojdict = {}\n",
    "for scen in pollist:\n",
    "    scenpercdict = {}\n",
    "    for var in polvars:\n",
    "        scenpercdict[var] = p.loc[(scen, var)].iloc[:-1].quantile(polquants)\n",
    "        scenpercdict[var].loc['EV'] = p.loc[(scen, var)].iloc[-1]\n",
    "    \n",
    "    polprojdict[scen] = pd.concat(scenpercdict, keys=polvars, names=['Var', 'Perc'])\n",
    "\n",
    "# Calculate % change quantiles at each time step based on full sample\n",
    "polpercdict = {}\n",
    "for scen in pollist[1:]:\n",
    "    # First calculate % change across the entire sample\n",
    "    percs = (p.loc[scen] - p.loc[pollist[0]])/p.loc[pollist[0]]\n",
    "    \n",
    "    # Then take quantiles for the % change value at each time step\n",
    "    scenpercdict = {}\n",
    "    for var in polvars:\n",
    "        scenpercdict[var] = percs.loc[var].iloc[:-1].quantile(polquants)\n",
    "        scenpercdict[var].loc['EV'] = percs.loc[var].iloc[-1]\n",
    "    \n",
    "    polpercdict[scen] = pd.concat(scenpercdict, keys=polvars, names=['Var', 'Perc'])\n",
    "\n",
    "# Rename scenarios with specified labels\n",
    "polrenames = dict([[scen, polnames[cin[:-4]]] for scen, cin in zip(pollist, policylist)])\n",
    "\n",
    "# Save compiled tables of annual value and % change quantiles\n",
    "polprojtable = pd.concat(polprojdict, names=['Scen', 'Var', 'Perc'])\n",
    "polprojtable.rename(index=polrenames, level=0, inplace=True)\n",
    "polprojtable.to_csv(f'{baserunname}_polprojann.tab', sep='\\t')\n",
    "\n",
    "polperctable = pd.concat(polpercdict, names=['Scen', 'Var', 'Perc'])\n",
    "polperctable.rename(index=polrenames, level=0, inplace=True)\n",
    "polperctable.to_csv(f'{baserunname}_polprojperc.tab', sep='\\t')"
   ]
  },
  {
   "cell_type": "code",
   "execution_count": 8,
   "metadata": {
    "scrolled": true
   },
   "outputs": [
    {
     "data": {
      "text/html": [
       "<div>\n",
       "<style scoped>\n",
       "    .dataframe tbody tr th:only-of-type {\n",
       "        vertical-align: middle;\n",
       "    }\n",
       "\n",
       "    .dataframe tbody tr th {\n",
       "        vertical-align: top;\n",
       "    }\n",
       "\n",
       "    .dataframe thead th {\n",
       "        text-align: right;\n",
       "    }\n",
       "</style>\n",
       "<table border=\"1\" class=\"dataframe\">\n",
       "  <thead>\n",
       "    <tr style=\"text-align: right;\">\n",
       "      <th></th>\n",
       "      <th>Cumulative overdose deaths</th>\n",
       "      <th>Cumulative UD person years</th>\n",
       "      <th>Projected cumulative overdose deaths</th>\n",
       "      <th>Projected cumulative UD person years</th>\n",
       "      <th>Med elasticity</th>\n",
       "      <th>Max elasticity</th>\n",
       "      <th>Avg MAEN</th>\n",
       "      <th>Max MAEN</th>\n",
       "    </tr>\n",
       "  </thead>\n",
       "  <tbody>\n",
       "    <tr>\n",
       "      <th>Deactivated Availability</th>\n",
       "      <td>-0.250672</td>\n",
       "      <td>-0.170013</td>\n",
       "      <td>-0.400782</td>\n",
       "      <td>-0.155946</td>\n",
       "      <td>0.000000</td>\n",
       "      <td>0.000000</td>\n",
       "      <td>0.227831</td>\n",
       "      <td>0.534612</td>\n",
       "    </tr>\n",
       "    <tr>\n",
       "      <th>Recalibrated w/o Availability</th>\n",
       "      <td>-0.001151</td>\n",
       "      <td>-0.002813</td>\n",
       "      <td>0.061650</td>\n",
       "      <td>0.142808</td>\n",
       "      <td>0.045423</td>\n",
       "      <td>2.644150</td>\n",
       "      <td>0.139565</td>\n",
       "      <td>0.329296</td>\n",
       "    </tr>\n",
       "    <tr>\n",
       "      <th>Deactivated Perceived risk</th>\n",
       "      <td>1.121378</td>\n",
       "      <td>0.268582</td>\n",
       "      <td>3.081437</td>\n",
       "      <td>0.918938</td>\n",
       "      <td>0.000000</td>\n",
       "      <td>0.000000</td>\n",
       "      <td>1.972365</td>\n",
       "      <td>12.376209</td>\n",
       "    </tr>\n",
       "    <tr>\n",
       "      <th>Recalibrated w/o Perceived risk</th>\n",
       "      <td>-0.005124</td>\n",
       "      <td>0.004091</td>\n",
       "      <td>0.126429</td>\n",
       "      <td>0.007070</td>\n",
       "      <td>0.059089</td>\n",
       "      <td>18.601300</td>\n",
       "      <td>0.155176</td>\n",
       "      <td>0.300739</td>\n",
       "    </tr>\n",
       "    <tr>\n",
       "      <th>Deactivated Social influence</th>\n",
       "      <td>-0.138857</td>\n",
       "      <td>-0.045306</td>\n",
       "      <td>-0.320325</td>\n",
       "      <td>-0.091862</td>\n",
       "      <td>0.000000</td>\n",
       "      <td>0.000000</td>\n",
       "      <td>0.236695</td>\n",
       "      <td>0.505380</td>\n",
       "    </tr>\n",
       "    <tr>\n",
       "      <th>Recalibrated w/o Social influence</th>\n",
       "      <td>-0.004294</td>\n",
       "      <td>-0.001294</td>\n",
       "      <td>0.115741</td>\n",
       "      <td>-0.033767</td>\n",
       "      <td>0.071636</td>\n",
       "      <td>2.469114</td>\n",
       "      <td>0.135563</td>\n",
       "      <td>0.293534</td>\n",
       "    </tr>\n",
       "  </tbody>\n",
       "</table>\n",
       "</div>"
      ],
      "text/plain": [
       "                                   Cumulative overdose deaths  \\\n",
       "Deactivated Availability                            -0.250672   \n",
       "Recalibrated w/o Availability                       -0.001151   \n",
       "Deactivated Perceived risk                           1.121378   \n",
       "Recalibrated w/o Perceived risk                     -0.005124   \n",
       "Deactivated Social influence                        -0.138857   \n",
       "Recalibrated w/o Social influence                   -0.004294   \n",
       "\n",
       "                                   Cumulative UD person years  \\\n",
       "Deactivated Availability                            -0.170013   \n",
       "Recalibrated w/o Availability                       -0.002813   \n",
       "Deactivated Perceived risk                           0.268582   \n",
       "Recalibrated w/o Perceived risk                      0.004091   \n",
       "Deactivated Social influence                        -0.045306   \n",
       "Recalibrated w/o Social influence                   -0.001294   \n",
       "\n",
       "                                   Projected cumulative overdose deaths  \\\n",
       "Deactivated Availability                                      -0.400782   \n",
       "Recalibrated w/o Availability                                  0.061650   \n",
       "Deactivated Perceived risk                                     3.081437   \n",
       "Recalibrated w/o Perceived risk                                0.126429   \n",
       "Deactivated Social influence                                  -0.320325   \n",
       "Recalibrated w/o Social influence                              0.115741   \n",
       "\n",
       "                                   Projected cumulative UD person years  \\\n",
       "Deactivated Availability                                      -0.155946   \n",
       "Recalibrated w/o Availability                                  0.142808   \n",
       "Deactivated Perceived risk                                     0.918938   \n",
       "Recalibrated w/o Perceived risk                                0.007070   \n",
       "Deactivated Social influence                                  -0.091862   \n",
       "Recalibrated w/o Social influence                             -0.033767   \n",
       "\n",
       "                                   Med elasticity  Max elasticity  Avg MAEN  \\\n",
       "Deactivated Availability                 0.000000        0.000000  0.227831   \n",
       "Recalibrated w/o Availability            0.045423        2.644150  0.139565   \n",
       "Deactivated Perceived risk               0.000000        0.000000  1.972365   \n",
       "Recalibrated w/o Perceived risk          0.059089       18.601300  0.155176   \n",
       "Deactivated Social influence             0.000000        0.000000  0.236695   \n",
       "Recalibrated w/o Social influence        0.071636        2.469114  0.135563   \n",
       "\n",
       "                                    Max MAEN  \n",
       "Deactivated Availability            0.534612  \n",
       "Recalibrated w/o Availability       0.329296  \n",
       "Deactivated Perceived risk         12.376209  \n",
       "Recalibrated w/o Perceived risk     0.300739  \n",
       "Deactivated Social influence        0.505380  \n",
       "Recalibrated w/o Social influence   0.293534  "
      ]
     },
     "execution_count": 8,
     "metadata": {},
     "output_type": "execute_result"
    }
   ],
   "source": [
    "##### LOOP KNOCKOUT ANALYSIS PANEL #####\n",
    "\n",
    "# Set up labels for loop knockout keys\n",
    "lknamedict = {'av': 'Availability', 'pr': 'Perceived risk', 'si': 'Social influence'}\n",
    "\n",
    "lkdfdict = {} # Initiatlise container for results\n",
    "\n",
    "# Iterate through loop knockout keys and compile deactivated and re-estimated results from each\n",
    "for key in lkdict.keys():\n",
    "    lkdfdict['Deactivated ' + lknamedict[key]] = compile_sens_panel(\n",
    "        baserunname, 'lk_run', key, basescens[0][:-4], outvars, projvars, \n",
    "        str(endyear), str(projyear), dropvars=lkdict[key], params=False)\n",
    "    lkdfdict['Recalibrated w/o ' + lknamedict[key]] = compile_sens_panel(\n",
    "        baserunname, 'lk', key, basescens[0][:-4], outvars, projvars, \n",
    "        str(endyear), str(projyear), dropvars=lkdict[key])\n",
    "\n",
    "# Compile and export results\n",
    "lkdf = pd.concat(lkdfdict, axis=1).T\n",
    "lkdf.to_csv(f'{baserunname}_lk_sens.tab', sep='\\t')\n",
    "lkdf"
   ]
  },
  {
   "cell_type": "code",
   "execution_count": 9,
   "metadata": {
    "scrolled": true
   },
   "outputs": [
    {
     "data": {
      "text/html": [
       "<div>\n",
       "<style scoped>\n",
       "    .dataframe tbody tr th:only-of-type {\n",
       "        vertical-align: middle;\n",
       "    }\n",
       "\n",
       "    .dataframe tbody tr th {\n",
       "        vertical-align: top;\n",
       "    }\n",
       "\n",
       "    .dataframe thead th {\n",
       "        text-align: right;\n",
       "    }\n",
       "</style>\n",
       "<table border=\"1\" class=\"dataframe\">\n",
       "  <thead>\n",
       "    <tr style=\"text-align: right;\">\n",
       "      <th></th>\n",
       "      <th>Cumulative overdose deaths</th>\n",
       "      <th>Cumulative UD person years</th>\n",
       "      <th>Projected cumulative overdose deaths</th>\n",
       "      <th>Projected cumulative UD person years</th>\n",
       "      <th>Med elasticity</th>\n",
       "      <th>Max elasticity</th>\n",
       "      <th>Avg MAEN</th>\n",
       "      <th>Max MAEN</th>\n",
       "    </tr>\n",
       "  </thead>\n",
       "  <tbody>\n",
       "    <tr>\n",
       "      <th>ADF substitutability factor</th>\n",
       "      <td>-0.008695</td>\n",
       "      <td>-0.005959</td>\n",
       "      <td>-0.003984</td>\n",
       "      <td>-0.005064</td>\n",
       "      <td>0.048377</td>\n",
       "      <td>-2.568796</td>\n",
       "      <td>0.126883</td>\n",
       "      <td>0.266120</td>\n",
       "    </tr>\n",
       "    <tr>\n",
       "      <th>Effect of MOUD Tx on OD death rate[Bup]</th>\n",
       "      <td>0.000925</td>\n",
       "      <td>-0.003711</td>\n",
       "      <td>-0.033869</td>\n",
       "      <td>0.008052</td>\n",
       "      <td>0.031899</td>\n",
       "      <td>-1.534010</td>\n",
       "      <td>0.126881</td>\n",
       "      <td>0.266322</td>\n",
       "    </tr>\n",
       "    <tr>\n",
       "      <th>Effect of MOUD Tx on OD death rate[MMT]</th>\n",
       "      <td>-0.000682</td>\n",
       "      <td>-0.000727</td>\n",
       "      <td>-0.019236</td>\n",
       "      <td>0.008357</td>\n",
       "      <td>0.024752</td>\n",
       "      <td>-1.987798</td>\n",
       "      <td>0.126915</td>\n",
       "      <td>0.266277</td>\n",
       "    </tr>\n",
       "    <tr>\n",
       "      <th>Effect of MOUD Tx on OD death rate[Viv]</th>\n",
       "      <td>0.001289</td>\n",
       "      <td>-0.002716</td>\n",
       "      <td>-0.014020</td>\n",
       "      <td>0.016326</td>\n",
       "      <td>0.067332</td>\n",
       "      <td>-2.628936</td>\n",
       "      <td>0.126943</td>\n",
       "      <td>0.266231</td>\n",
       "    </tr>\n",
       "    <tr>\n",
       "      <th>OxyContin withdrawal magnitude</th>\n",
       "      <td>-0.002139</td>\n",
       "      <td>0.008638</td>\n",
       "      <td>-0.015501</td>\n",
       "      <td>-0.010958</td>\n",
       "      <td>0.036614</td>\n",
       "      <td>2.984977</td>\n",
       "      <td>0.126833</td>\n",
       "      <td>0.266107</td>\n",
       "    </tr>\n",
       "    <tr>\n",
       "      <th>Perceived risk decrease time</th>\n",
       "      <td>-0.002428</td>\n",
       "      <td>-0.006160</td>\n",
       "      <td>-0.006774</td>\n",
       "      <td>-0.006420</td>\n",
       "      <td>0.040778</td>\n",
       "      <td>-2.040129</td>\n",
       "      <td>0.126871</td>\n",
       "      <td>0.266137</td>\n",
       "    </tr>\n",
       "    <tr>\n",
       "      <th>Perceived risk increase time</th>\n",
       "      <td>-0.002522</td>\n",
       "      <td>0.009180</td>\n",
       "      <td>0.014261</td>\n",
       "      <td>0.004510</td>\n",
       "      <td>0.031492</td>\n",
       "      <td>-0.800005</td>\n",
       "      <td>0.126917</td>\n",
       "      <td>0.266071</td>\n",
       "    </tr>\n",
       "    <tr>\n",
       "      <th>Perceived risk weight NFOD</th>\n",
       "      <td>-0.002036</td>\n",
       "      <td>-0.004490</td>\n",
       "      <td>-0.008184</td>\n",
       "      <td>-0.014776</td>\n",
       "      <td>0.045095</td>\n",
       "      <td>-2.226558</td>\n",
       "      <td>0.126848</td>\n",
       "      <td>0.266227</td>\n",
       "    </tr>\n",
       "    <tr>\n",
       "      <th>Probability OD witnessed</th>\n",
       "      <td>0.002475</td>\n",
       "      <td>-0.011777</td>\n",
       "      <td>0.072349</td>\n",
       "      <td>-0.026882</td>\n",
       "      <td>0.040181</td>\n",
       "      <td>-1.604609</td>\n",
       "      <td>0.126833</td>\n",
       "      <td>0.266626</td>\n",
       "    </tr>\n",
       "    <tr>\n",
       "      <th>Probability of calling emergency services</th>\n",
       "      <td>-0.000579</td>\n",
       "      <td>-0.002404</td>\n",
       "      <td>-0.011966</td>\n",
       "      <td>-0.008052</td>\n",
       "      <td>0.035107</td>\n",
       "      <td>2.159412</td>\n",
       "      <td>0.126870</td>\n",
       "      <td>0.266203</td>\n",
       "    </tr>\n",
       "    <tr>\n",
       "      <th>Remission rate HUD no MOUD Tx</th>\n",
       "      <td>-0.002130</td>\n",
       "      <td>-0.009262</td>\n",
       "      <td>-0.090190</td>\n",
       "      <td>-0.134758</td>\n",
       "      <td>0.038302</td>\n",
       "      <td>-2.207059</td>\n",
       "      <td>0.126888</td>\n",
       "      <td>0.266213</td>\n",
       "    </tr>\n",
       "    <tr>\n",
       "      <th>Rx demand HUD with Rx OUD or misuse</th>\n",
       "      <td>-0.001513</td>\n",
       "      <td>-0.004134</td>\n",
       "      <td>0.013237</td>\n",
       "      <td>0.033482</td>\n",
       "      <td>0.019796</td>\n",
       "      <td>-1.961836</td>\n",
       "      <td>0.126883</td>\n",
       "      <td>0.266105</td>\n",
       "    </tr>\n",
       "    <tr>\n",
       "      <th>Rx demand Rx OUD no H</th>\n",
       "      <td>-0.000719</td>\n",
       "      <td>-0.006093</td>\n",
       "      <td>-0.009820</td>\n",
       "      <td>0.023354</td>\n",
       "      <td>0.024754</td>\n",
       "      <td>-1.723510</td>\n",
       "      <td>0.126885</td>\n",
       "      <td>0.266305</td>\n",
       "    </tr>\n",
       "    <tr>\n",
       "      <th>Sensitivity of Rx supply to patients receiving prescription</th>\n",
       "      <td>-0.002055</td>\n",
       "      <td>-0.004809</td>\n",
       "      <td>0.038186</td>\n",
       "      <td>0.078600</td>\n",
       "      <td>0.043408</td>\n",
       "      <td>-2.294428</td>\n",
       "      <td>0.126864</td>\n",
       "      <td>0.266060</td>\n",
       "    </tr>\n",
       "    <tr>\n",
       "      <th>Sensitivity of Rx supply to Rx per person</th>\n",
       "      <td>-0.000738</td>\n",
       "      <td>-0.008148</td>\n",
       "      <td>-0.018368</td>\n",
       "      <td>-0.033676</td>\n",
       "      <td>0.044832</td>\n",
       "      <td>-1.952312</td>\n",
       "      <td>0.126868</td>\n",
       "      <td>0.266108</td>\n",
       "    </tr>\n",
       "    <tr>\n",
       "      <th>Sensitivity of Rx supply to days per prescription</th>\n",
       "      <td>0.001625</td>\n",
       "      <td>-0.003028</td>\n",
       "      <td>0.017368</td>\n",
       "      <td>0.025914</td>\n",
       "      <td>0.028901</td>\n",
       "      <td>-2.202549</td>\n",
       "      <td>0.126937</td>\n",
       "      <td>0.266224</td>\n",
       "    </tr>\n",
       "    <tr>\n",
       "      <th>Sensitivity of Rx supply to MME per day</th>\n",
       "      <td>-0.001139</td>\n",
       "      <td>-0.002865</td>\n",
       "      <td>-0.034489</td>\n",
       "      <td>-0.095853</td>\n",
       "      <td>0.046531</td>\n",
       "      <td>-2.493147</td>\n",
       "      <td>0.126877</td>\n",
       "      <td>0.266220</td>\n",
       "    </tr>\n",
       "    <tr>\n",
       "      <th>Time to readjust Rx street supply</th>\n",
       "      <td>-0.004913</td>\n",
       "      <td>0.004111</td>\n",
       "      <td>-0.009184</td>\n",
       "      <td>0.006752</td>\n",
       "      <td>0.049258</td>\n",
       "      <td>2.435688</td>\n",
       "      <td>0.126842</td>\n",
       "      <td>0.266031</td>\n",
       "    </tr>\n",
       "    <tr>\n",
       "      <th>Tx average duration Bup</th>\n",
       "      <td>0.002727</td>\n",
       "      <td>-0.001766</td>\n",
       "      <td>-0.030567</td>\n",
       "      <td>-0.049697</td>\n",
       "      <td>0.047557</td>\n",
       "      <td>-1.939340</td>\n",
       "      <td>0.126819</td>\n",
       "      <td>0.266337</td>\n",
       "    </tr>\n",
       "    <tr>\n",
       "      <th>Tx average duration MMT</th>\n",
       "      <td>-0.000747</td>\n",
       "      <td>-0.006315</td>\n",
       "      <td>-0.005030</td>\n",
       "      <td>0.013227</td>\n",
       "      <td>0.045328</td>\n",
       "      <td>2.156825</td>\n",
       "      <td>0.126873</td>\n",
       "      <td>0.266304</td>\n",
       "    </tr>\n",
       "    <tr>\n",
       "      <th>Tx average duration Viv</th>\n",
       "      <td>0.002484</td>\n",
       "      <td>-0.006553</td>\n",
       "      <td>-0.014633</td>\n",
       "      <td>-0.008066</td>\n",
       "      <td>0.031038</td>\n",
       "      <td>-1.849892</td>\n",
       "      <td>0.126947</td>\n",
       "      <td>0.266286</td>\n",
       "    </tr>\n",
       "    <tr>\n",
       "      <th>Tx seeking fraction Bup HUD</th>\n",
       "      <td>0.000336</td>\n",
       "      <td>-0.005833</td>\n",
       "      <td>-0.009734</td>\n",
       "      <td>-0.027560</td>\n",
       "      <td>0.024769</td>\n",
       "      <td>-1.887165</td>\n",
       "      <td>0.126847</td>\n",
       "      <td>0.266310</td>\n",
       "    </tr>\n",
       "    <tr>\n",
       "      <th>Tx seeking fraction Bup Rx OUD</th>\n",
       "      <td>0.002951</td>\n",
       "      <td>0.003310</td>\n",
       "      <td>-0.011478</td>\n",
       "      <td>0.036941</td>\n",
       "      <td>0.052660</td>\n",
       "      <td>-1.791020</td>\n",
       "      <td>0.126903</td>\n",
       "      <td>0.266130</td>\n",
       "    </tr>\n",
       "    <tr>\n",
       "      <th>Tx seeking fraction MMT HUD relative</th>\n",
       "      <td>-0.001448</td>\n",
       "      <td>-0.009150</td>\n",
       "      <td>0.010060</td>\n",
       "      <td>0.006586</td>\n",
       "      <td>0.051688</td>\n",
       "      <td>-1.482270</td>\n",
       "      <td>0.126823</td>\n",
       "      <td>0.266109</td>\n",
       "    </tr>\n",
       "    <tr>\n",
       "      <th>Tx seeking fraction MMT Rx OUD relative</th>\n",
       "      <td>-0.002923</td>\n",
       "      <td>-0.002672</td>\n",
       "      <td>-0.011525</td>\n",
       "      <td>-0.002048</td>\n",
       "      <td>0.024638</td>\n",
       "      <td>-1.627372</td>\n",
       "      <td>0.126964</td>\n",
       "      <td>0.266063</td>\n",
       "    </tr>\n",
       "    <tr>\n",
       "      <th>Tx seeking rate HUD relative to Rx OUD no H</th>\n",
       "      <td>-0.001719</td>\n",
       "      <td>-0.001336</td>\n",
       "      <td>-0.018554</td>\n",
       "      <td>-0.019923</td>\n",
       "      <td>0.056200</td>\n",
       "      <td>1.940765</td>\n",
       "      <td>0.126863</td>\n",
       "      <td>0.266081</td>\n",
       "    </tr>\n",
       "    <tr>\n",
       "      <th>Tx success fraction inflection</th>\n",
       "      <td>-0.001588</td>\n",
       "      <td>-0.006352</td>\n",
       "      <td>-0.034620</td>\n",
       "      <td>-0.163038</td>\n",
       "      <td>0.069801</td>\n",
       "      <td>-3.156101</td>\n",
       "      <td>0.126782</td>\n",
       "      <td>0.266056</td>\n",
       "    </tr>\n",
       "  </tbody>\n",
       "</table>\n",
       "</div>"
      ],
      "text/plain": [
       "                                                    Cumulative overdose deaths  \\\n",
       "ADF substitutability factor                                          -0.008695   \n",
       "Effect of MOUD Tx on OD death rate[Bup]                               0.000925   \n",
       "Effect of MOUD Tx on OD death rate[MMT]                              -0.000682   \n",
       "Effect of MOUD Tx on OD death rate[Viv]                               0.001289   \n",
       "OxyContin withdrawal magnitude                                       -0.002139   \n",
       "Perceived risk decrease time                                         -0.002428   \n",
       "Perceived risk increase time                                         -0.002522   \n",
       "Perceived risk weight NFOD                                           -0.002036   \n",
       "Probability OD witnessed                                              0.002475   \n",
       "Probability of calling emergency services                            -0.000579   \n",
       "Remission rate HUD no MOUD Tx                                        -0.002130   \n",
       "Rx demand HUD with Rx OUD or misuse                                  -0.001513   \n",
       "Rx demand Rx OUD no H                                                -0.000719   \n",
       "Sensitivity of Rx supply to patients receiving ...                   -0.002055   \n",
       "Sensitivity of Rx supply to Rx per person                            -0.000738   \n",
       "Sensitivity of Rx supply to days per prescription                     0.001625   \n",
       "Sensitivity of Rx supply to MME per day                              -0.001139   \n",
       "Time to readjust Rx street supply                                    -0.004913   \n",
       "Tx average duration Bup                                               0.002727   \n",
       "Tx average duration MMT                                              -0.000747   \n",
       "Tx average duration Viv                                               0.002484   \n",
       "Tx seeking fraction Bup HUD                                           0.000336   \n",
       "Tx seeking fraction Bup Rx OUD                                        0.002951   \n",
       "Tx seeking fraction MMT HUD relative                                 -0.001448   \n",
       "Tx seeking fraction MMT Rx OUD relative                              -0.002923   \n",
       "Tx seeking rate HUD relative to Rx OUD no H                          -0.001719   \n",
       "Tx success fraction inflection                                       -0.001588   \n",
       "\n",
       "                                                    Cumulative UD person years  \\\n",
       "ADF substitutability factor                                          -0.005959   \n",
       "Effect of MOUD Tx on OD death rate[Bup]                              -0.003711   \n",
       "Effect of MOUD Tx on OD death rate[MMT]                              -0.000727   \n",
       "Effect of MOUD Tx on OD death rate[Viv]                              -0.002716   \n",
       "OxyContin withdrawal magnitude                                        0.008638   \n",
       "Perceived risk decrease time                                         -0.006160   \n",
       "Perceived risk increase time                                          0.009180   \n",
       "Perceived risk weight NFOD                                           -0.004490   \n",
       "Probability OD witnessed                                             -0.011777   \n",
       "Probability of calling emergency services                            -0.002404   \n",
       "Remission rate HUD no MOUD Tx                                        -0.009262   \n",
       "Rx demand HUD with Rx OUD or misuse                                  -0.004134   \n",
       "Rx demand Rx OUD no H                                                -0.006093   \n",
       "Sensitivity of Rx supply to patients receiving ...                   -0.004809   \n",
       "Sensitivity of Rx supply to Rx per person                            -0.008148   \n",
       "Sensitivity of Rx supply to days per prescription                    -0.003028   \n",
       "Sensitivity of Rx supply to MME per day                              -0.002865   \n",
       "Time to readjust Rx street supply                                     0.004111   \n",
       "Tx average duration Bup                                              -0.001766   \n",
       "Tx average duration MMT                                              -0.006315   \n",
       "Tx average duration Viv                                              -0.006553   \n",
       "Tx seeking fraction Bup HUD                                          -0.005833   \n",
       "Tx seeking fraction Bup Rx OUD                                        0.003310   \n",
       "Tx seeking fraction MMT HUD relative                                 -0.009150   \n",
       "Tx seeking fraction MMT Rx OUD relative                              -0.002672   \n",
       "Tx seeking rate HUD relative to Rx OUD no H                          -0.001336   \n",
       "Tx success fraction inflection                                       -0.006352   \n",
       "\n",
       "                                                    Projected cumulative overdose deaths  \\\n",
       "ADF substitutability factor                                                    -0.003984   \n",
       "Effect of MOUD Tx on OD death rate[Bup]                                        -0.033869   \n",
       "Effect of MOUD Tx on OD death rate[MMT]                                        -0.019236   \n",
       "Effect of MOUD Tx on OD death rate[Viv]                                        -0.014020   \n",
       "OxyContin withdrawal magnitude                                                 -0.015501   \n",
       "Perceived risk decrease time                                                   -0.006774   \n",
       "Perceived risk increase time                                                    0.014261   \n",
       "Perceived risk weight NFOD                                                     -0.008184   \n",
       "Probability OD witnessed                                                        0.072349   \n",
       "Probability of calling emergency services                                      -0.011966   \n",
       "Remission rate HUD no MOUD Tx                                                  -0.090190   \n",
       "Rx demand HUD with Rx OUD or misuse                                             0.013237   \n",
       "Rx demand Rx OUD no H                                                          -0.009820   \n",
       "Sensitivity of Rx supply to patients receiving ...                              0.038186   \n",
       "Sensitivity of Rx supply to Rx per person                                      -0.018368   \n",
       "Sensitivity of Rx supply to days per prescription                               0.017368   \n",
       "Sensitivity of Rx supply to MME per day                                        -0.034489   \n",
       "Time to readjust Rx street supply                                              -0.009184   \n",
       "Tx average duration Bup                                                        -0.030567   \n",
       "Tx average duration MMT                                                        -0.005030   \n",
       "Tx average duration Viv                                                        -0.014633   \n",
       "Tx seeking fraction Bup HUD                                                    -0.009734   \n",
       "Tx seeking fraction Bup Rx OUD                                                 -0.011478   \n",
       "Tx seeking fraction MMT HUD relative                                            0.010060   \n",
       "Tx seeking fraction MMT Rx OUD relative                                        -0.011525   \n",
       "Tx seeking rate HUD relative to Rx OUD no H                                    -0.018554   \n",
       "Tx success fraction inflection                                                 -0.034620   \n",
       "\n",
       "                                                    Projected cumulative UD person years  \\\n",
       "ADF substitutability factor                                                    -0.005064   \n",
       "Effect of MOUD Tx on OD death rate[Bup]                                         0.008052   \n",
       "Effect of MOUD Tx on OD death rate[MMT]                                         0.008357   \n",
       "Effect of MOUD Tx on OD death rate[Viv]                                         0.016326   \n",
       "OxyContin withdrawal magnitude                                                 -0.010958   \n",
       "Perceived risk decrease time                                                   -0.006420   \n",
       "Perceived risk increase time                                                    0.004510   \n",
       "Perceived risk weight NFOD                                                     -0.014776   \n",
       "Probability OD witnessed                                                       -0.026882   \n",
       "Probability of calling emergency services                                      -0.008052   \n",
       "Remission rate HUD no MOUD Tx                                                  -0.134758   \n",
       "Rx demand HUD with Rx OUD or misuse                                             0.033482   \n",
       "Rx demand Rx OUD no H                                                           0.023354   \n",
       "Sensitivity of Rx supply to patients receiving ...                              0.078600   \n",
       "Sensitivity of Rx supply to Rx per person                                      -0.033676   \n",
       "Sensitivity of Rx supply to days per prescription                               0.025914   \n",
       "Sensitivity of Rx supply to MME per day                                        -0.095853   \n",
       "Time to readjust Rx street supply                                               0.006752   \n",
       "Tx average duration Bup                                                        -0.049697   \n",
       "Tx average duration MMT                                                         0.013227   \n",
       "Tx average duration Viv                                                        -0.008066   \n",
       "Tx seeking fraction Bup HUD                                                    -0.027560   \n",
       "Tx seeking fraction Bup Rx OUD                                                  0.036941   \n",
       "Tx seeking fraction MMT HUD relative                                            0.006586   \n",
       "Tx seeking fraction MMT Rx OUD relative                                        -0.002048   \n",
       "Tx seeking rate HUD relative to Rx OUD no H                                    -0.019923   \n",
       "Tx success fraction inflection                                                 -0.163038   \n",
       "\n",
       "                                                    Med elasticity  \\\n",
       "ADF substitutability factor                               0.048377   \n",
       "Effect of MOUD Tx on OD death rate[Bup]                   0.031899   \n",
       "Effect of MOUD Tx on OD death rate[MMT]                   0.024752   \n",
       "Effect of MOUD Tx on OD death rate[Viv]                   0.067332   \n",
       "OxyContin withdrawal magnitude                            0.036614   \n",
       "Perceived risk decrease time                              0.040778   \n",
       "Perceived risk increase time                              0.031492   \n",
       "Perceived risk weight NFOD                                0.045095   \n",
       "Probability OD witnessed                                  0.040181   \n",
       "Probability of calling emergency services                 0.035107   \n",
       "Remission rate HUD no MOUD Tx                             0.038302   \n",
       "Rx demand HUD with Rx OUD or misuse                       0.019796   \n",
       "Rx demand Rx OUD no H                                     0.024754   \n",
       "Sensitivity of Rx supply to patients receiving ...        0.043408   \n",
       "Sensitivity of Rx supply to Rx per person                 0.044832   \n",
       "Sensitivity of Rx supply to days per prescription         0.028901   \n",
       "Sensitivity of Rx supply to MME per day                   0.046531   \n",
       "Time to readjust Rx street supply                         0.049258   \n",
       "Tx average duration Bup                                   0.047557   \n",
       "Tx average duration MMT                                   0.045328   \n",
       "Tx average duration Viv                                   0.031038   \n",
       "Tx seeking fraction Bup HUD                               0.024769   \n",
       "Tx seeking fraction Bup Rx OUD                            0.052660   \n",
       "Tx seeking fraction MMT HUD relative                      0.051688   \n",
       "Tx seeking fraction MMT Rx OUD relative                   0.024638   \n",
       "Tx seeking rate HUD relative to Rx OUD no H               0.056200   \n",
       "Tx success fraction inflection                            0.069801   \n",
       "\n",
       "                                                    Max elasticity  Avg MAEN  \\\n",
       "ADF substitutability factor                              -2.568796  0.126883   \n",
       "Effect of MOUD Tx on OD death rate[Bup]                  -1.534010  0.126881   \n",
       "Effect of MOUD Tx on OD death rate[MMT]                  -1.987798  0.126915   \n",
       "Effect of MOUD Tx on OD death rate[Viv]                  -2.628936  0.126943   \n",
       "OxyContin withdrawal magnitude                            2.984977  0.126833   \n",
       "Perceived risk decrease time                             -2.040129  0.126871   \n",
       "Perceived risk increase time                             -0.800005  0.126917   \n",
       "Perceived risk weight NFOD                               -2.226558  0.126848   \n",
       "Probability OD witnessed                                 -1.604609  0.126833   \n",
       "Probability of calling emergency services                 2.159412  0.126870   \n",
       "Remission rate HUD no MOUD Tx                            -2.207059  0.126888   \n",
       "Rx demand HUD with Rx OUD or misuse                      -1.961836  0.126883   \n",
       "Rx demand Rx OUD no H                                    -1.723510  0.126885   \n",
       "Sensitivity of Rx supply to patients receiving ...       -2.294428  0.126864   \n",
       "Sensitivity of Rx supply to Rx per person                -1.952312  0.126868   \n",
       "Sensitivity of Rx supply to days per prescription        -2.202549  0.126937   \n",
       "Sensitivity of Rx supply to MME per day                  -2.493147  0.126877   \n",
       "Time to readjust Rx street supply                         2.435688  0.126842   \n",
       "Tx average duration Bup                                  -1.939340  0.126819   \n",
       "Tx average duration MMT                                   2.156825  0.126873   \n",
       "Tx average duration Viv                                  -1.849892  0.126947   \n",
       "Tx seeking fraction Bup HUD                              -1.887165  0.126847   \n",
       "Tx seeking fraction Bup Rx OUD                           -1.791020  0.126903   \n",
       "Tx seeking fraction MMT HUD relative                     -1.482270  0.126823   \n",
       "Tx seeking fraction MMT Rx OUD relative                  -1.627372  0.126964   \n",
       "Tx seeking rate HUD relative to Rx OUD no H               1.940765  0.126863   \n",
       "Tx success fraction inflection                           -3.156101  0.126782   \n",
       "\n",
       "                                                    Max MAEN  \n",
       "ADF substitutability factor                         0.266120  \n",
       "Effect of MOUD Tx on OD death rate[Bup]             0.266322  \n",
       "Effect of MOUD Tx on OD death rate[MMT]             0.266277  \n",
       "Effect of MOUD Tx on OD death rate[Viv]             0.266231  \n",
       "OxyContin withdrawal magnitude                      0.266107  \n",
       "Perceived risk decrease time                        0.266137  \n",
       "Perceived risk increase time                        0.266071  \n",
       "Perceived risk weight NFOD                          0.266227  \n",
       "Probability OD witnessed                            0.266626  \n",
       "Probability of calling emergency services           0.266203  \n",
       "Remission rate HUD no MOUD Tx                       0.266213  \n",
       "Rx demand HUD with Rx OUD or misuse                 0.266105  \n",
       "Rx demand Rx OUD no H                               0.266305  \n",
       "Sensitivity of Rx supply to patients receiving ...  0.266060  \n",
       "Sensitivity of Rx supply to Rx per person           0.266108  \n",
       "Sensitivity of Rx supply to days per prescription   0.266224  \n",
       "Sensitivity of Rx supply to MME per day             0.266220  \n",
       "Time to readjust Rx street supply                   0.266031  \n",
       "Tx average duration Bup                             0.266337  \n",
       "Tx average duration MMT                             0.266304  \n",
       "Tx average duration Viv                             0.266286  \n",
       "Tx seeking fraction Bup HUD                         0.266310  \n",
       "Tx seeking fraction Bup Rx OUD                      0.266130  \n",
       "Tx seeking fraction MMT HUD relative                0.266109  \n",
       "Tx seeking fraction MMT Rx OUD relative             0.266063  \n",
       "Tx seeking rate HUD relative to Rx OUD no H         0.266081  \n",
       "Tx success fraction inflection                      0.266056  "
      ]
     },
     "execution_count": 9,
     "metadata": {},
     "output_type": "execute_result"
    }
   ],
   "source": [
    "##### PARAMETRIC ASSUMPTIONS SENSITIVITY ANALYSIS PANEL #####\n",
    "\n",
    "# Compile runnames from variable names in sensvars\n",
    "sensdict = dict([[''.join([w[0] for w in regex.findall(r\"[\\w']+\", var)]), var] \n",
    "                 for var in sensvars])\n",
    "\n",
    "assmdfdict = {} # Initiatlise container for results\n",
    "\n",
    "# Iterate through sensvars names and compile results from each\n",
    "for key in sensdict.keys():\n",
    "    # Compile high and low scenario results panels\n",
    "    high = compile_sens_panel(baserunname, 'assm', f'{key}_L', basescens[0][:-4], outvars, \n",
    "                              projvars, str(endyear), str(projyear))\n",
    "    low = compile_sens_panel(baserunname, 'assm', f'{key}_H', basescens[0][:-4], outvars, \n",
    "                             projvars, str(endyear), str(projyear))\n",
    "    \n",
    "    # Concatenate and take average\n",
    "    var = pd.concat({'H': high, 'L': low}, axis=1)\n",
    "    var['avg'] = (abs(var['H']) + abs(var['L'])) / 2 * np.sign(var['H']) # Take sign from H change\n",
    "    var['avg'].iloc[0:6] = var['avg'].iloc[0:6] / sensrange # Convert to elasticity\n",
    "    assmdfdict[sensdict[key]] = var['avg']\n",
    "\n",
    "# Compile and export results\n",
    "assmdf = pd.concat(assmdfdict, axis=1).T\n",
    "assmdf.to_csv(f'{baserunname}_assm_sens.tab', sep='\\t')\n",
    "assmdf"
   ]
  },
  {
   "cell_type": "code",
   "execution_count": 10,
   "metadata": {},
   "outputs": [
    {
     "data": {
      "text/html": [
       "<div>\n",
       "<style scoped>\n",
       "    .dataframe tbody tr th:only-of-type {\n",
       "        vertical-align: middle;\n",
       "    }\n",
       "\n",
       "    .dataframe tbody tr th {\n",
       "        vertical-align: top;\n",
       "    }\n",
       "\n",
       "    .dataframe thead th {\n",
       "        text-align: right;\n",
       "    }\n",
       "</style>\n",
       "<table border=\"1\" class=\"dataframe\">\n",
       "  <thead>\n",
       "    <tr style=\"text-align: right;\">\n",
       "      <th></th>\n",
       "      <th>Cumulative overdose deaths</th>\n",
       "      <th>Cumulative UD person years</th>\n",
       "      <th>Projected cumulative overdose deaths</th>\n",
       "      <th>Projected cumulative UD person years</th>\n",
       "      <th>Med elasticity</th>\n",
       "      <th>Max elasticity</th>\n",
       "      <th>Avg MAEN</th>\n",
       "      <th>Max MAEN</th>\n",
       "    </tr>\n",
       "  </thead>\n",
       "  <tbody>\n",
       "    <tr>\n",
       "      <th>Excluding 2020 data</th>\n",
       "      <td>-0.007885</td>\n",
       "      <td>0.006924</td>\n",
       "      <td>0.019055</td>\n",
       "      <td>0.102588</td>\n",
       "      <td>0.009327</td>\n",
       "      <td>0.500095</td>\n",
       "      <td>0.123994</td>\n",
       "      <td>0.251937</td>\n",
       "    </tr>\n",
       "  </tbody>\n",
       "</table>\n",
       "</div>"
      ],
      "text/plain": [
       "                     Cumulative overdose deaths  Cumulative UD person years  \\\n",
       "Excluding 2020 data                   -0.007885                    0.006924   \n",
       "\n",
       "                     Projected cumulative overdose deaths  \\\n",
       "Excluding 2020 data                              0.019055   \n",
       "\n",
       "                     Projected cumulative UD person years  Med elasticity  \\\n",
       "Excluding 2020 data                              0.102588        0.009327   \n",
       "\n",
       "                     Max elasticity  Avg MAEN  Max MAEN  \n",
       "Excluding 2020 data        0.500095  0.123994  0.251937  "
      ]
     },
     "execution_count": 10,
     "metadata": {},
     "output_type": "execute_result"
    }
   ],
   "source": [
    "##### ALTERNATIVE DATA CONDITIONS SENSITIVITY ANALYSIS PANEL #####\n",
    "\n",
    "# Set up labels for alternative data conditions\n",
    "aldtnamedict = {'Data2019': 'Excluding 2020 data'}\n",
    "\n",
    "aldtdfdict = {} # Initiatlise container for results\n",
    "\n",
    "# Iterate through sensvars names and compile results from each\n",
    "for key, val in aldtnamedict.items():\n",
    "    # Compile high and low scenario results panels\n",
    "    aldtdfdict[val] = compile_sens_panel(baserunname, 'test', key, basescens[0][:-4], \n",
    "                                         outvars, projvars, str(endyear), str(projyear))\n",
    "\n",
    "# Compile and export results\n",
    "aldtdf = pd.concat(aldtdfdict, axis=1).T\n",
    "aldtdf.to_csv(f'{baserunname}_aldt_sens.tab', sep='\\t')\n",
    "aldtdf\n"
   ]
  },
  {
   "cell_type": "code",
   "execution_count": 11,
   "metadata": {
    "scrolled": false
   },
   "outputs": [
    {
     "data": {
      "text/plain": [
       "'Processing X8_hold_final_Base.tab...'"
      ]
     },
     "metadata": {},
     "output_type": "display_data"
    },
    {
     "data": {
      "text/html": [
       "<div>\n",
       "<style scoped>\n",
       "    .dataframe tbody tr th:only-of-type {\n",
       "        vertical-align: middle;\n",
       "    }\n",
       "\n",
       "    .dataframe tbody tr th {\n",
       "        vertical-align: top;\n",
       "    }\n",
       "\n",
       "    .dataframe thead th {\n",
       "        text-align: right;\n",
       "    }\n",
       "</style>\n",
       "<table border=\"1\" class=\"dataframe\">\n",
       "  <thead>\n",
       "    <tr style=\"text-align: right;\">\n",
       "      <th></th>\n",
       "      <th>2013.0</th>\n",
       "      <th>2014.0</th>\n",
       "      <th>2015.0</th>\n",
       "      <th>2016.0</th>\n",
       "      <th>2017.0</th>\n",
       "      <th>2018.0</th>\n",
       "      <th>2019.0</th>\n",
       "      <th>2020.0</th>\n",
       "    </tr>\n",
       "    <tr>\n",
       "      <th>Var</th>\n",
       "      <th></th>\n",
       "      <th></th>\n",
       "      <th></th>\n",
       "      <th></th>\n",
       "      <th></th>\n",
       "      <th></th>\n",
       "      <th></th>\n",
       "      <th></th>\n",
       "    </tr>\n",
       "  </thead>\n",
       "  <tbody>\n",
       "    <tr>\n",
       "      <th>RepVar[HUD]</th>\n",
       "      <td>True</td>\n",
       "      <td>True</td>\n",
       "      <td>True</td>\n",
       "      <td>True</td>\n",
       "      <td>True</td>\n",
       "      <td>True</td>\n",
       "      <td>False</td>\n",
       "      <td>True</td>\n",
       "    </tr>\n",
       "    <tr>\n",
       "      <th>RepVar[InHD]</th>\n",
       "      <td>True</td>\n",
       "      <td>False</td>\n",
       "      <td>True</td>\n",
       "      <td>False</td>\n",
       "      <td>True</td>\n",
       "      <td>False</td>\n",
       "      <td>False</td>\n",
       "      <td>False</td>\n",
       "    </tr>\n",
       "    <tr>\n",
       "      <th>RepVar[InHO]</th>\n",
       "      <td>True</td>\n",
       "      <td>True</td>\n",
       "      <td>True</td>\n",
       "      <td>True</td>\n",
       "      <td>True</td>\n",
       "      <td>True</td>\n",
       "      <td>True</td>\n",
       "      <td>True</td>\n",
       "    </tr>\n",
       "    <tr>\n",
       "      <th>RepVar[InHR]</th>\n",
       "      <td>True</td>\n",
       "      <td>False</td>\n",
       "      <td>True</td>\n",
       "      <td>False</td>\n",
       "      <td>True</td>\n",
       "      <td>False</td>\n",
       "      <td>True</td>\n",
       "      <td>True</td>\n",
       "    </tr>\n",
       "    <tr>\n",
       "      <th>RepVar[InHT]</th>\n",
       "      <td>True</td>\n",
       "      <td>False</td>\n",
       "      <td>True</td>\n",
       "      <td>False</td>\n",
       "      <td>True</td>\n",
       "      <td>False</td>\n",
       "      <td>True</td>\n",
       "      <td>False</td>\n",
       "    </tr>\n",
       "    <tr>\n",
       "      <th>RepVar[InRD]</th>\n",
       "      <td>True</td>\n",
       "      <td>True</td>\n",
       "      <td>True</td>\n",
       "      <td>True</td>\n",
       "      <td>True</td>\n",
       "      <td>True</td>\n",
       "      <td>True</td>\n",
       "      <td>True</td>\n",
       "    </tr>\n",
       "    <tr>\n",
       "      <th>RepVar[InRM]</th>\n",
       "      <td>True</td>\n",
       "      <td>True</td>\n",
       "      <td>True</td>\n",
       "      <td>True</td>\n",
       "      <td>False</td>\n",
       "      <td>False</td>\n",
       "      <td>True</td>\n",
       "      <td>True</td>\n",
       "    </tr>\n",
       "    <tr>\n",
       "      <th>RepVar[NDHU]</th>\n",
       "      <td>True</td>\n",
       "      <td>False</td>\n",
       "      <td>True</td>\n",
       "      <td>False</td>\n",
       "      <td>False</td>\n",
       "      <td>False</td>\n",
       "      <td>False</td>\n",
       "      <td>False</td>\n",
       "    </tr>\n",
       "    <tr>\n",
       "      <th>RepVar[ODHC]</th>\n",
       "      <td>False</td>\n",
       "      <td>False</td>\n",
       "      <td>False</td>\n",
       "      <td>False</td>\n",
       "      <td>True</td>\n",
       "      <td>True</td>\n",
       "      <td>True</td>\n",
       "      <td>True</td>\n",
       "    </tr>\n",
       "    <tr>\n",
       "      <th>RepVar[ODRB]</th>\n",
       "      <td>True</td>\n",
       "      <td>True</td>\n",
       "      <td>True</td>\n",
       "      <td>True</td>\n",
       "      <td>True</td>\n",
       "      <td>True</td>\n",
       "      <td>False</td>\n",
       "      <td>True</td>\n",
       "    </tr>\n",
       "    <tr>\n",
       "      <th>RepVar[ODTo]</th>\n",
       "      <td>False</td>\n",
       "      <td>False</td>\n",
       "      <td>False</td>\n",
       "      <td>False</td>\n",
       "      <td>True</td>\n",
       "      <td>True</td>\n",
       "      <td>True</td>\n",
       "      <td>True</td>\n",
       "    </tr>\n",
       "    <tr>\n",
       "      <th>RepVar[RMis]</th>\n",
       "      <td>True</td>\n",
       "      <td>True</td>\n",
       "      <td>True</td>\n",
       "      <td>True</td>\n",
       "      <td>True</td>\n",
       "      <td>True</td>\n",
       "      <td>True</td>\n",
       "      <td>True</td>\n",
       "    </tr>\n",
       "    <tr>\n",
       "      <th>RepVar[ROUD]</th>\n",
       "      <td>True</td>\n",
       "      <td>True</td>\n",
       "      <td>True</td>\n",
       "      <td>True</td>\n",
       "      <td>True</td>\n",
       "      <td>True</td>\n",
       "      <td>True</td>\n",
       "      <td>True</td>\n",
       "    </tr>\n",
       "    <tr>\n",
       "      <th>RepVar[ROUH]</th>\n",
       "      <td>True</td>\n",
       "      <td>False</td>\n",
       "      <td>True</td>\n",
       "      <td>True</td>\n",
       "      <td>True</td>\n",
       "      <td>False</td>\n",
       "      <td>False</td>\n",
       "      <td>False</td>\n",
       "    </tr>\n",
       "    <tr>\n",
       "      <th>RepVar[TxBp]</th>\n",
       "      <td>True</td>\n",
       "      <td>True</td>\n",
       "      <td>True</td>\n",
       "      <td>True</td>\n",
       "      <td>True</td>\n",
       "      <td>True</td>\n",
       "      <td>True</td>\n",
       "      <td>True</td>\n",
       "    </tr>\n",
       "  </tbody>\n",
       "</table>\n",
       "</div>"
      ],
      "text/plain": [
       "              2013.0  2014.0  2015.0  2016.0  2017.0  2018.0  2019.0  2020.0\n",
       "Var                                                                         \n",
       "RepVar[HUD]     True    True    True    True    True    True   False    True\n",
       "RepVar[InHD]    True   False    True   False    True   False   False   False\n",
       "RepVar[InHO]    True    True    True    True    True    True    True    True\n",
       "RepVar[InHR]    True   False    True   False    True   False    True    True\n",
       "RepVar[InHT]    True   False    True   False    True   False    True   False\n",
       "RepVar[InRD]    True    True    True    True    True    True    True    True\n",
       "RepVar[InRM]    True    True    True    True   False   False    True    True\n",
       "RepVar[NDHU]    True   False    True   False   False   False   False   False\n",
       "RepVar[ODHC]   False   False   False   False    True    True    True    True\n",
       "RepVar[ODRB]    True    True    True    True    True    True   False    True\n",
       "RepVar[ODTo]   False   False   False   False    True    True    True    True\n",
       "RepVar[RMis]    True    True    True    True    True    True    True    True\n",
       "RepVar[ROUD]    True    True    True    True    True    True    True    True\n",
       "RepVar[ROUH]    True   False    True    True    True   False   False   False\n",
       "RepVar[TxBp]    True    True    True    True    True    True    True    True"
      ]
     },
     "metadata": {},
     "output_type": "display_data"
    },
    {
     "data": {
      "text/plain": [
       "120"
      ]
     },
     "metadata": {},
     "output_type": "display_data"
    },
    {
     "data": {
      "text/plain": [
       "86"
      ]
     },
     "metadata": {},
     "output_type": "display_data"
    },
    {
     "data": {
      "text/plain": [
       "104"
      ]
     },
     "metadata": {},
     "output_type": "display_data"
    },
    {
     "data": {
      "text/plain": [
       "78"
      ]
     },
     "metadata": {},
     "output_type": "display_data"
    }
   ],
   "source": [
    "##### HOLDOUT DATA ANALYSIS PROCESSING #####\n",
    "\n",
    "# Clean and process results files\n",
    "clean_final(baserunname, basescens[0][:-4], name='hold_final')\n",
    "clean_sens(baserunname, basescens[0][:-4], fitlist, name='hold_sens', repvars=['RepVar'])\n",
    "\n",
    "# Read in predicted CrI values and actual data values\n",
    "holdfits = pd.read_csv(f'{baserunname}_hold_sens_Base_fits.tab', sep='\\t', index_col=[0,1])\n",
    "holdfits = holdfits.loc[:, :str(float(endyear))]\n",
    "holdfits.drop([f'RepVar[{var}]' for var in hold_excl], inplace=True, level=0)\n",
    "holdfits = holdfits.reorder_levels(['Perc', 'Var']).sort_index()\n",
    "\n",
    "mainfits = pd.read_csv(f'{baserunname}_main_fits.tab', sep='\\t', index_col=[0])\n",
    "datavars = [f'DataVar[{var[0]}]' for var in fitlist]\n",
    "datafits = mainfits.loc[datavars].sort_index()\n",
    "datafits.drop([f'DataVar[{var}]' for var in hold_excl], inplace=True)\n",
    "\n",
    "# Create Boolean df tracking which values are within which percent CrIs\n",
    "for bds in hold_percs:\n",
    "    \n",
    "    # Reindex data values dataframe to use same keys\n",
    "    datafits.columns = holdfits.loc[bds[0]].columns\n",
    "    datafits.index = holdfits.loc[bds[0]].index\n",
    "    \n",
    "    # Compare data values to credible interval limits for entire dataframe\n",
    "    booldf = ((datafits > holdfits.loc[bds[0]]) & (datafits < holdfits.loc[bds[1]]))\n",
    "    booldf.where(datafits.notna(), pd.NA, inplace=True) # Ensure NAs are coded as NA, not False\n",
    "    booldf = booldf[booldf.columns[::4]] # Reduce down to annual resolution\n",
    "    booldf = booldf.loc[:, str(float(holdoutyear+1)):] # Limit to predicted years\n",
    "\n",
    "    # Create 'asterisk' version of Boolean output (for use in tables)\n",
    "    stardf = booldf.copy()\n",
    "    stardf.where(booldf==True, '*', inplace=True)\n",
    "    stardf.mask(booldf==True, '', inplace=True)\n",
    "    \n",
    "    # Create results table of data values and predicted ranges for all vars and prediction years\n",
    "    holddfdict = {}\n",
    "    for yr in booldf.columns:\n",
    "        data, lowers, uppers = (col.astype('int64').apply('{:.2e}'.format) for col in \n",
    "                                [datafits[yr], holdfits.loc[bds[0]][yr], holdfits.loc[bds[1]][yr]])\n",
    "        yrvals = [f'{val}{star} ({lower}-{upper})' for val, star, lower, upper \n",
    "                  in zip(data, stardf[yr], lowers, uppers)]\n",
    "        holddfdict[yr] = pd.Series(yrvals)\n",
    "        \n",
    "    holddf = pd.concat(holddfdict, axis=1)\n",
    "    holddf.index = booldf.index # To assign RepVar names to output\n",
    "    holddf.columns = pd.to_numeric(holddf.columns).astype('int')\n",
    "    holddf.to_csv(f'{baserunname}_holdout.tab', sep='\\t')\n",
    "    booldf.to_csv(f'{baserunname}_holdout_bool.tab', sep='\\t')\n",
    "    \n",
    "    # \n",
    "    predtotal = booldf.size\n",
    "    predright = booldf.sum().sum()\n",
    "    predshort = booldf.drop([f'RepVar[{var}]' for var in hold_drop]).size\n",
    "    predshrgt = booldf.drop([f'RepVar[{var}]' for var in hold_drop]).sum().sum()\n",
    "    \n",
    "    display(booldf)\n",
    "    display(predtotal, predright, predshort, predshrgt)"
   ]
  },
  {
   "cell_type": "code",
   "execution_count": 12,
   "metadata": {
    "scrolled": false
   },
   "outputs": [
    {
     "data": {
      "text/plain": [
       "Perc\n",
       "50           0.348630\n",
       "80           0.600000\n",
       "90           0.715068\n",
       "95           0.776712\n",
       "98           0.822603\n",
       "dist95       0.431584\n",
       "Dist95Med    0.284392\n",
       "dtype: float64"
      ]
     },
     "execution_count": 12,
     "metadata": {},
     "output_type": "execute_result"
    }
   ],
   "source": [
    "##### SYNDATA CrI PROCESSING #####\n",
    "\n",
    "# Read in data\n",
    "syndf = pd.read_csv(f'{baserunname}_syndata_results.tab', sep='\\t', index_col=[0, 1])\n",
    "syndf = syndf.reorder_levels(['Perc', 'Run']).sort_index()\n",
    "\n",
    "spdfdict = {} # Initialise container for results\n",
    "\n",
    "# Create Boolean df tracking which values are within which percent CrIs\n",
    "for perc in syn_reppercs:\n",
    "    bds = strbds_from_perc(perc) # Calculate CrI bounds for each percent CrI\n",
    "    spdfdict[perc] = ((syndf.loc['True'] > syndf.loc[bds[0]]) \n",
    "                      & (syndf.loc['True'] < syndf.loc[bds[1]]))\n",
    "\n",
    "# Calculate distance of estimate from median relative to main CrI\n",
    "bdsmain = strbds_from_perc(syn_mainperc)\n",
    "spdfdict[f'dist{syn_mainperc}'] = abs((syndf.loc['Value'] - syndf.loc['True']) / \n",
    "                                      (syndf.loc[bdsmain[1]] - syndf.loc[bdsmain[0]]))\n",
    "\n",
    "# Compile and export percent CrI calculations\n",
    "synpercdf = pd.concat(spdfdict, names=['Perc', 'Run'])\n",
    "synpercdf.to_csv(f'{baserunname}_syndata_intervals.tab', sep='\\t')\n",
    "\n",
    "# Collapse Boolean df to get mean percentages within each CrI\n",
    "means = synpercdf.mean(axis=1).groupby('Perc').mean()\n",
    "means[f'Dist{syn_mainperc}Med'] = np.nanmedian(spdfdict[f'dist{syn_mainperc}'])\n",
    "means.to_csv(f'{baserunname}_syndata_means.tab', sep='\\t')\n",
    "means"
   ]
  },
  {
   "cell_type": "code",
   "execution_count": 36,
   "metadata": {
    "scrolled": false
   },
   "outputs": [
    {
     "data": {
      "text/plain": [
       "['Exogenous inputs\\t11\\n',\n",
       " 'Calibration time series\\t15\\n',\n",
       " 'MCMC total\\t2500000\\n',\n",
       " 'MCMC burnin\\t1500000\\n',\n",
       " 'MCMC sample\\t1000000\\n',\n",
       " 'MCMC PSRF < 1.2\\t0.987546699875467\\t< 1.1\\t0.950186799501868\\n',\n",
       " 'Sensitivity sample\\t5000\\n',\n",
       " 'Sensitivity analysis range\\t0.1\\n',\n",
       " 'Syndata sets\\t20\\n',\n",
       " 'Estimated parameters (no ISCs)\\t53\\n',\n",
       " 'Initial stock corrections\\t20\\n',\n",
       " 'Cumulative OD deaths without fentanyl\\t476507\\n',\n",
       " 'Cumulative synth-involved OD deaths DATA\\t228109\\n',\n",
       " 'Confidence interval estimated params\\t0.9\\n',\n",
       " 'Confidence interval estimated params\\t0.95\\n',\n",
       " 'Holdout cutoff year\\t2012\\n',\n",
       " 'Total holdout years\\t8\\n',\n",
       " 'Total holdout datapoints\\t120\\n',\n",
       " 'Holdout datapoints in pred. interval\\t86\\n',\n",
       " 'Base-Cnst delta for Projected cumulative overdose deaths\\t-0.0705067212778524\\n',\n",
       " 'Base-Cnst delta for Projected cumulative UD person years\\t0.08633543938693883\\n',\n",
       " '\\n\\nFixed parameter values\\n',\n",
       " 'Perceived risk weight NFOD\\t0.1\\n',\n",
       " 'OxyContin withdrawal magnitude\\t0.45\\n',\n",
       " 'Tx seeking rate HUD relative to Rx OUD no H\\t4.843\\n',\n",
       " 'Bup effective capacity decay constant\\t4.45e-05\\n',\n",
       " 'Bup effective capacity per provider base\\t42.0\\n',\n",
       " 'Bup effective capacity rampup time\\t11.5\\n',\n",
       " 'Bup rampup start year\\t2000.0\\n',\n",
       " 'MMT OTP capacity utilization NSSATS\\t0.866\\n',\n",
       " 'Viv capacity utilization NSSATS\\t0.88\\n',\n",
       " 'Tx average duration Bup\\t0.61\\n',\n",
       " 'Tx average duration MMT\\t1.0\\n',\n",
       " 'Tx average duration Viv\\t0.22\\n',\n",
       " 'NonOD death rate HUD or OUD\\t0.0143\\n',\n",
       " 'Effect of MOUD Tx on NonOD death rate[MMT]\\t0.37\\n',\n",
       " 'Effect of MOUD Tx on NonOD death rate[Bup]\\t0.54\\n',\n",
       " 'Effect of MOUD Tx on NonOD death rate[Viv]\\t0.926\\n',\n",
       " 'Effect of MOUD Tx on OD death rate[MMT]\\t0.295\\n',\n",
       " 'Effect of MOUD Tx on OD death rate[Viv]\\t0.439\\n',\n",
       " 'Remission rate HUD no MOUD Tx\\t0.068\\n',\n",
       " 'Probability OD witnessed\\t0.764\\n',\n",
       " 'Probability of calling emergency services\\t0.424\\n',\n",
       " 'Rx OUD in remission total prior NESARC\\t893153.0\\n',\n",
       " 'Rx OUD in stable remission total prior NESARC\\t1349830.0\\n',\n",
       " 'HUD in remission total prior NESARC\\t284174.0\\n',\n",
       " 'HUD in stable remission total prior NESARC\\t485323.0\\n',\n",
       " '\\n\\n',\n",
       " 'Relative Tx seeking rates\\n',\n",
       " 'OUD\\t1\\t0.625\\t0.05625\\t0.31875\\n',\n",
       " 'HUD\\t4.843\\t2.66365\\t1.74348\\t0.43587\\n']"
      ]
     },
     "metadata": {},
     "output_type": "display_data"
    }
   ],
   "source": [
    "##### CALCULATE VALUES FOR SUMMARYTEXT #####\n",
    "\n",
    "# Pull values for fentanyl counterfactual ODs\n",
    "t = pd.read_csv(f'{baserunname}_final_{basescens[0][:-4]}_vars.tab', sep='\\t', index_col=0)\n",
    "nft = pd.read_csv(f'{baserunname}_final_{scenariolist[0][:-4]}_vars.tab', sep='\\t', index_col=0)\n",
    "nofentods = nft.loc['Cumulative overdose deaths', '2019']\n",
    "nofentodsdata = np.sum((t.loc['Total overdose deaths NVSS'] \n",
    "                        - t.loc['Total overdose deaths base Rx NVSS'] \n",
    "                        - t.loc['Total overdose deaths base heroin NVSS'])[::4])\n",
    "del t, nft\n",
    "\n",
    "# Calculate MCMC sample size\n",
    "mcsample = mcsettings['MCLIMIT'] - mcsettings['MCBURNIN']\n",
    "\n",
    "# Calculate PSRF percentages below 1.1 and 1.2 key thresholds\n",
    "mcout = pd.read_csv(f'{baserunname}_main_MC_MCMC_stats.tab', sep='\\t', index_col=0)\n",
    "psrfs = [i for i in mcout.index if 'PSRF' in i]\n",
    "psrfs.remove('PSRF Payoff')\n",
    "mcout = mcout.loc[psrfs]\n",
    "mcout.columns = mcout.columns.astype('float').astype('int')\n",
    "mcout = mcout[mcout.columns[mcout.columns > mcsettings['MCBURNIN']]].dropna(axis=1)\n",
    "psrf12 = np.nanmean(mcout < 1.2)\n",
    "psrf11 = np.nanmean(mcout < 1.1)\n",
    "del mcout\n",
    "\n",
    "# Get parameter numbers\n",
    "t = pd.read_csv(f'{baserunname}_params.tab', sep='\\t', index_col=0)\n",
    "iscs = len([idx for idx in t.index if 'Initial stock correction' in idx])\n",
    "estpars = len(t.index) - iscs\n",
    "del t\n",
    "\n",
    "# Compile summarytext\n",
    "summarytext = [\n",
    "    f\"Exogenous inputs\\t{len(proj_subs)}\\n\", \n",
    "    f\"Calibration time series\\t{len(fitlist) - 3}\\n\", \n",
    "    f\"MCMC total\\t{mcsettings['MCLIMIT']}\\n\", \n",
    "    f\"MCMC burnin\\t{mcsettings['MCBURNIN']}\\n\", \n",
    "    f\"MCMC sample\\t{mcsample}\\n\", \n",
    "    f\"MCMC PSRF < 1.2\\t{psrf12}\\t< 1.1\\t{psrf11}\\n\", \n",
    "    f\"Sensitivity sample\\t{int(mcsample * samplefrac)}\\n\", \n",
    "    f\"Sensitivity analysis range\\t{sensrange}\\n\", \n",
    "    f\"Syndata sets\\t{synsample}\\n\", \n",
    "    f\"Estimated parameters (no ISCs)\\t{estpars}\\n\", \n",
    "    f\"Initial stock corrections\\t{iscs}\\n\", \n",
    "    f\"Cumulative OD deaths without fentanyl\\t{int(nofentods)}\\n\", \n",
    "    f\"Cumulative synth-involved OD deaths DATA\\t{int(nofentodsdata)}\\n\", \n",
    "    f\"Confidence interval estimated params\\t{round(param_percs[-1] - param_percs[0], 3)}\\n\", \n",
    "    f\"Confidence interval estimated params\\t{syn_mainperc/100}\\n\", \n",
    "    f\"Holdout cutoff year\\t{holdoutyear}\\n\", \n",
    "    f\"Total holdout years\\t{endyear - holdoutyear}\\n\", \n",
    "    f\"Total holdout datapoints\\t{predtotal}\\n\", \n",
    "    f\"Holdout datapoints in pred. interval\\t{predright}\\n\"\n",
    "]\n",
    "\n",
    "# Calculate projection differences for key outcomes expressed as delta from 'base' to 'cnst'\n",
    "first = f'{baserunname}_sens_{basescens[0][:-4]}_clean.tab'\n",
    "second = f'{baserunname}_sens_{basescens[1][:-4]}_clean.tab'\n",
    "basecomps = compare_vals(first, second, projvars, projyear)\n",
    "\n",
    "summarytext.extend([f\"Base-Cnst delta for {var}\\t{val}\\n\" for var, val in zip(projvars, basecomps)])\n",
    "\n",
    "# Read fixed parameter values from .mdl file\n",
    "mdl = f\"../{simsettings['model']}\"\n",
    "summarytext.append(\"\\n\\nFixed parameter values\\n\")\n",
    "summarytext.extend([f'{var}\\t{get_value(mdl, var)}\\n' for var in paramvals])\n",
    "\n",
    "# Create relative Tx-seeking rate table\n",
    "ot = 1\n",
    "ob = get_value(mdl, \"Tx seeking fraction Bup Rx OUD\")\n",
    "om = round((ot - ob) * get_value(mdl, \"Tx seeking fraction MMT Rx OUD relative\"), 5)\n",
    "ov = round(ot - ob - om, 5)\n",
    "ht = get_value(mdl, \"Tx seeking rate HUD relative to Rx OUD no H\")\n",
    "hb = round(ht * get_value(mdl, \"Tx seeking fraction Bup HUD\"), 5)\n",
    "hm = round((ht - hb) * get_value(mdl, \"Tx seeking fraction MMT HUD relative\"), 5)\n",
    "hv = round(ht - hb - hm, 5)\n",
    "\n",
    "summarytext.extend([\"\\n\\n\", \"Relative Tx seeking rates\\n\", \n",
    "                    f\"OUD\\t{ot}\\t{ob}\\t{om}\\t{ov}\\n\", f\"HUD\\t{ht}\\t{hb}\\t{hm}\\t{hv}\\n\"])\n",
    "\n",
    "# Export summary text file\n",
    "with open(f\"{baserunname}_summary.txt\", 'w') as summaryfile:\n",
    "    summaryfile.writelines(summarytext)\n",
    "\n",
    "display(summarytext)\n"
   ]
  },
  {
   "cell_type": "code",
   "execution_count": 37,
   "metadata": {},
   "outputs": [],
   "source": [
    "##### SEND MAIN OUTPUTS TO SUBFOLDER FOR EASY ACCESS #####\n",
    "\n",
    "os.chdir(basedir)\n",
    "os.chdir('./Results')\n",
    "os.makedirs('./ResMain', exist_ok=True)\n",
    "\n",
    "resmain = ['assm_sens.tab', 'aldt_sens.tab', 'GOF.tab', 'inputs.tab', 'lk_sens.tab', \n",
    "           'params.tab', 'polprojann.tab', 'polprojperc.tab', 'proj_changes.tab', \n",
    "           'holdout.tab', 'syndata_means.tab', 'yearvals.tab', 'summary.txt']\n",
    "\n",
    "for res in resmain:\n",
    "    copy(f'./{baserunname}_{res}', './ResMain')"
   ]
  },
  {
   "cell_type": "code",
   "execution_count": null,
   "metadata": {},
   "outputs": [],
   "source": [
    "000000000000000000000000000000000000000000000000000000000000000000000000\n",
    "000000000000000000000000000000000000000000000000000000000000000000000000000000000000000000000000000"
   ]
  }
 ],
 "metadata": {
  "kernelspec": {
   "display_name": "Python 3",
   "language": "python",
   "name": "python3"
  },
  "language_info": {
   "codemirror_mode": {
    "name": "ipython",
    "version": 3
   },
   "file_extension": ".py",
   "mimetype": "text/x-python",
   "name": "python",
   "nbconvert_exporter": "python",
   "pygments_lexer": "ipython3",
   "version": "3.8.3"
  }
 },
 "nbformat": 4,
 "nbformat_minor": 4
}
